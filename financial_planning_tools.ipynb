{
 "cells": [
  {
   "cell_type": "markdown",
   "metadata": {},
   "source": [
    "# Financial Planning with APIs and Simulations\n",
    "\n",
    "In this Challenge, you’ll create two financial analysis tools by using a single Jupyter notebook:\n",
    "\n",
    "Part 1: A financial planner for emergencies. The members will be able to use this tool to visualize their current savings. The members can then determine if they have enough reserves for an emergency fund.\n",
    "\n",
    "Part 2: A financial planner for retirement. This tool will forecast the performance of their retirement portfolio in 30 years. To do this, the tool will make an Alpaca API call via the Alpaca SDK to get historical price data for use in Monte Carlo simulations.\n",
    "\n",
    "You’ll use the information from the Monte Carlo simulation to answer questions about the portfolio in your Jupyter notebook.\n",
    "\n"
   ]
  },
  {
   "cell_type": "code",
   "execution_count": 1,
   "metadata": {},
   "outputs": [],
   "source": [
    "# Import the required libraries and dependencies\n",
    "import os\n",
    "import requests\n",
    "import json\n",
    "import pandas as pd\n",
    "from dotenv import load_dotenv\n",
    "import alpaca_trade_api as tradeapi\n",
    "from MCForecastTools import MCSimulation\n",
    "\n",
    "%matplotlib inline"
   ]
  },
  {
   "cell_type": "code",
   "execution_count": 28,
   "metadata": {},
   "outputs": [
    {
     "data": {
      "text/plain": [
       "True"
      ]
     },
     "execution_count": 28,
     "metadata": {},
     "output_type": "execute_result"
    }
   ],
   "source": [
    "# Load the environment variables from the .env file\n",
    "#by calling the load_dotenv function\n",
    "load_dotenv('api.env')"
   ]
  },
  {
   "cell_type": "markdown",
   "metadata": {},
   "source": [
    "## Part 1: Create a Financial Planner for Emergencies"
   ]
  },
  {
   "cell_type": "markdown",
   "metadata": {},
   "source": [
    "### Evaluate the Cryptocurrency Wallet by Using the Requests Library\n",
    "\n",
    "In this section, you’ll determine the current value of a member’s cryptocurrency wallet. You’ll collect the current prices for the Bitcoin and Ethereum cryptocurrencies by using the Python Requests library. For the prototype, you’ll assume that the member holds the 1.2 Bitcoins (BTC) and 5.3 Ethereum coins (ETH). To do all this, complete the following steps:\n",
    "\n",
    "1. Create a variable named `monthly_income`, and set its value to `12000`.\n",
    "\n",
    "2. Use the Requests library to get the current price (in US dollars) of Bitcoin (BTC) and Ethereum (ETH) by using the API endpoints that the starter code supplies.\n",
    "\n",
    "3. Navigate the JSON response object to access the current price of each coin, and store each in a variable.\n",
    "\n",
    "    > **Hint** Note the specific identifier for each cryptocurrency in the API JSON response. The Bitcoin identifier is `1`, and the Ethereum identifier is `1027`.\n",
    "\n",
    "4. Calculate the value, in US dollars, of the current amount of each cryptocurrency and of the entire cryptocurrency wallet.\n",
    "\n"
   ]
  },
  {
   "cell_type": "code",
   "execution_count": 3,
   "metadata": {},
   "outputs": [],
   "source": [
    "# The current number of coins for each cryptocurrency asset held in the portfolio.\n",
    "btc_coins = 1.2\n",
    "eth_coins = 5.3"
   ]
  },
  {
   "cell_type": "markdown",
   "metadata": {},
   "source": [
    "#### Step 1: Create a variable named `monthly_income`, and set its value to `12000`."
   ]
  },
  {
   "cell_type": "code",
   "execution_count": 4,
   "metadata": {},
   "outputs": [],
   "source": [
    "# The monthly amount for the member's household income\n",
    "# YOUR CODE HERE\n",
    "monthly_income = 12000"
   ]
  },
  {
   "cell_type": "markdown",
   "metadata": {},
   "source": [
    "#### Review the endpoint URLs for the API calls to Free Crypto API in order to get the current pricing information for both BTC and ETH."
   ]
  },
  {
   "cell_type": "code",
   "execution_count": 5,
   "metadata": {},
   "outputs": [],
   "source": [
    "# The Free Crypto API Call endpoint URLs for the held cryptocurrency assets\n",
    "btc_url = \"https://api.alternative.me/v2/ticker/Bitcoin/?convert=USD\"\n",
    "eth_url = \"https://api.alternative.me/v2/ticker/Ethereum/?convert=USD\""
   ]
  },
  {
   "cell_type": "markdown",
   "metadata": {},
   "source": [
    "#### Step 2. Use the Requests library to get the current price (in US dollars) of Bitcoin (BTC) and Ethereum (ETH) by using the API endpoints that the starter code supplied."
   ]
  },
  {
   "cell_type": "code",
   "execution_count": 7,
   "metadata": {},
   "outputs": [
    {
     "name": "stdout",
     "output_type": "stream",
     "text": [
      "{\n",
      "    \"data\": {\n",
      "        \"1\": {\n",
      "            \"circulating_supply\": 18845300,\n",
      "            \"id\": 1,\n",
      "            \"last_updated\": 1634387593,\n",
      "            \"max_supply\": 21000000,\n",
      "            \"name\": \"Bitcoin\",\n",
      "            \"quotes\": {\n",
      "                \"USD\": {\n",
      "                    \"market_cap\": 1163488731454,\n",
      "                    \"percent_change_1h\": -0.27887307930011,\n",
      "                    \"percent_change_24h\": 3.21516055597252,\n",
      "                    \"percent_change_7d\": 14.1511546380307,\n",
      "                    \"percentage_change_1h\": -0.27887307930011,\n",
      "                    \"percentage_change_24h\": 3.21516055597252,\n",
      "                    \"percentage_change_7d\": 14.1511546380307,\n",
      "                    \"price\": 61654.0,\n",
      "                    \"volume_24h\": 44869918702\n",
      "                }\n",
      "            },\n",
      "            \"rank\": 1,\n",
      "            \"symbol\": \"BTC\",\n",
      "            \"total_supply\": 18845300,\n",
      "            \"website_slug\": \"bitcoin\"\n",
      "        }\n",
      "    },\n",
      "    \"metadata\": {\n",
      "        \"error\": null,\n",
      "        \"num_cryptocurrencies\": 3105,\n",
      "        \"timestamp\": 1634387593\n",
      "    }\n",
      "}\n"
     ]
    }
   ],
   "source": [
    "# Using the Python requests library, make an API call to access the current price of BTC\n",
    "btc_response = requests.get(btc_url).json()\n",
    "\n",
    "# Use the json.dumps function to review the response data from the API call\n",
    "# Use the indent and sort_keys parameters to make the response object readable\n",
    "# YOUR CODE HERE\n",
    "print(json.dumps(btc_response, indent=4, sort_keys=True))"
   ]
  },
  {
   "cell_type": "code",
   "execution_count": 8,
   "metadata": {},
   "outputs": [
    {
     "name": "stdout",
     "output_type": "stream",
     "text": [
      "{\n",
      "    \"data\": {\n",
      "        \"1027\": {\n",
      "            \"circulating_supply\": 117949707,\n",
      "            \"id\": 1027,\n",
      "            \"last_updated\": 1634387967,\n",
      "            \"max_supply\": 0,\n",
      "            \"name\": \"Ethereum\",\n",
      "            \"quotes\": {\n",
      "                \"USD\": {\n",
      "                    \"market_cap\": 466753192432,\n",
      "                    \"percent_change_1h\": 0.0838522728870204,\n",
      "                    \"percent_change_24h\": 4.37908252538536,\n",
      "                    \"percent_change_7d\": 11.0069155660013,\n",
      "                    \"percentage_change_1h\": 0.0838522728870204,\n",
      "                    \"percentage_change_24h\": 4.37908252538536,\n",
      "                    \"percentage_change_7d\": 11.0069155660013,\n",
      "                    \"price\": 3950.24,\n",
      "                    \"volume_24h\": 21475264941\n",
      "                }\n",
      "            },\n",
      "            \"rank\": 2,\n",
      "            \"symbol\": \"ETH\",\n",
      "            \"total_supply\": 117949707,\n",
      "            \"website_slug\": \"ethereum\"\n",
      "        }\n",
      "    },\n",
      "    \"metadata\": {\n",
      "        \"error\": null,\n",
      "        \"num_cryptocurrencies\": 3105,\n",
      "        \"timestamp\": 1634387967\n",
      "    }\n",
      "}\n"
     ]
    }
   ],
   "source": [
    "# Using the Python requests library, make an API call to access the current price ETH\n",
    "eth_response = requests.get(eth_url).json()\n",
    "\n",
    "# Use the json.dumps function to review the response data from the API call\n",
    "# Use the indent and sort_keys parameters to make the response object readable\n",
    "# YOUR CODE HERE\n",
    "print(json.dumps(eth_response, indent=4, sort_keys=True))"
   ]
  },
  {
   "cell_type": "markdown",
   "metadata": {},
   "source": [
    "#### Step 3: Navigate the JSON response object to access the current price of each coin, and store each in a variable."
   ]
  },
  {
   "cell_type": "code",
   "execution_count": 12,
   "metadata": {},
   "outputs": [
    {
     "name": "stdout",
     "output_type": "stream",
     "text": [
      "The price of bitcoin today is $61654.0\n"
     ]
    }
   ],
   "source": [
    "# Navigate the BTC response object to access the current price of BTC\n",
    "btc_price = btc_response['data']['1']['quotes']['USD']['price']\n",
    "\n",
    "# Print the current price of BTC\n",
    "# YOUR CODE HERE\n",
    "print(f\"The price of bitcoin today is ${btc_price}\")"
   ]
  },
  {
   "cell_type": "code",
   "execution_count": 13,
   "metadata": {},
   "outputs": [
    {
     "name": "stdout",
     "output_type": "stream",
     "text": [
      "The price of ethereum today is $3950.24\n"
     ]
    }
   ],
   "source": [
    "# Navigate the BTC response object to access the current price of ETH\n",
    "eth_price = eth_response['data']['1027']['quotes']['USD']['price']\n",
    "\n",
    "# Print the current price of ETH\n",
    "# YOUR CODE HERE\n",
    "print(f\"The price of ethereum today is ${eth_price}\")"
   ]
  },
  {
   "cell_type": "markdown",
   "metadata": {},
   "source": [
    "### Step 4: Calculate the value, in US dollars, of the current amount of each cryptocurrency and of the entire cryptocurrency wallet."
   ]
  },
  {
   "cell_type": "code",
   "execution_count": 16,
   "metadata": {},
   "outputs": [
    {
     "name": "stdout",
     "output_type": "stream",
     "text": [
      "The value of bitcoin in your wallet is $73984.8\n"
     ]
    }
   ],
   "source": [
    "# Compute the current value of the BTC holding \n",
    "btc_value = btc_price * btc_coins\n",
    "\n",
    "# Print current value of your holding in BTC\n",
    "# YOUR CODE HERE\n",
    "print(f\"The value of bitcoin in your wallet is ${btc_value}\")\n"
   ]
  },
  {
   "cell_type": "code",
   "execution_count": 21,
   "metadata": {},
   "outputs": [
    {
     "name": "stdout",
     "output_type": "stream",
     "text": [
      "The value of ethereum in your wallet is $20936.272000\n"
     ]
    }
   ],
   "source": [
    "# Compute the current value of the ETH holding \n",
    "eth_value = eth_price * eth_coins\n",
    "\n",
    "# Print current value of your holding in ETH\n",
    "# YOUR CODE HERE\n",
    "print(f\"The value of ethereum in your wallet is ${eth_value:2f}\")"
   ]
  },
  {
   "cell_type": "code",
   "execution_count": 22,
   "metadata": {},
   "outputs": [
    {
     "name": "stdout",
     "output_type": "stream",
     "text": [
      "Your current cryptocurrency wallet balance is $ 94921.072000\n"
     ]
    }
   ],
   "source": [
    "# Compute the total value of the cryptocurrency wallet\n",
    "# Add the value of the BTC holding to the value of the ETH holding\n",
    "total_crypto_wallet = btc_value + eth_value\n",
    "\n",
    "# Print current cryptocurrency wallet balance\n",
    "# YOUR CODE HERE\n",
    "print(f\"Your current cryptocurrency wallet balance is ${total_crypto_wallet: 2f}\")"
   ]
  },
  {
   "cell_type": "markdown",
   "metadata": {},
   "source": [
    "### Evaluate the Stock and Bond Holdings by Using the Alpaca SDK\n",
    "\n",
    "In this section, you’ll determine the current value of a member’s stock and bond holdings. You’ll make an API call to Alpaca via the Alpaca SDK to get the current closing prices of the SPDR S&P 500 ETF Trust (ticker: SPY) and of the iShares Core US Aggregate Bond ETF (ticker: AGG). For the prototype, assume that the member holds 110 shares of SPY, which represents the stock portion of their portfolio, and 200 shares of AGG, which represents the bond portion. To do all this, complete the following steps:\n",
    "\n",
    "1. In the `Starter_Code` folder, create an environment file (`.env`) to store the values of your Alpaca API key and Alpaca secret key.\n",
    "\n",
    "2. Set the variables for the Alpaca API and secret keys. Using the Alpaca SDK, create the Alpaca `tradeapi.REST` object. In this object, include the parameters for the Alpaca API key, the secret key, and the version number.\n",
    "\n",
    "3. Set the following parameters for the Alpaca API call:\n",
    "\n",
    "    - `tickers`: Use the tickers for the member’s stock and bond holdings.\n",
    "\n",
    "    - `timeframe`: Use a time frame of one day.\n",
    "\n",
    "    - `start_date` and `end_date`: Use the same date for these parameters, and format them with the date of the previous weekday (or `2020-08-07`). This is because you want the one closing price for the most-recent trading day.\n",
    "\n",
    "4. Get the current closing prices for `SPY` and `AGG` by using the Alpaca `get_barset` function. Format the response as a Pandas DataFrame by including the `df` property at the end of the `get_barset` function.\n",
    "\n",
    "5. Navigating the Alpaca response DataFrame, select the `SPY` and `AGG` closing prices, and store them as variables.\n",
    "\n",
    "6. Calculate the value, in US dollars, of the current amount of shares in each of the stock and bond portions of the portfolio, and print the results.\n"
   ]
  },
  {
   "cell_type": "markdown",
   "metadata": {},
   "source": [
    "#### Review the total number of shares held in both (SPY) and (AGG)."
   ]
  },
  {
   "cell_type": "code",
   "execution_count": 23,
   "metadata": {},
   "outputs": [],
   "source": [
    "# Current amount of shares held in both the stock (SPY) and bond (AGG) portion of the portfolio.\n",
    "spy_shares = 110\n",
    "agg_shares = 200\n"
   ]
  },
  {
   "cell_type": "markdown",
   "metadata": {},
   "source": [
    "#### Step 1: In the `Starter_Code` folder, create an environment file (`.env`) to store the values of your Alpaca API key and Alpaca secret key."
   ]
  },
  {
   "cell_type": "markdown",
   "metadata": {},
   "source": [
    "#### Step 2: Set the variables for the Alpaca API and secret keys. Using the Alpaca SDK, create the Alpaca `tradeapi.REST` object. In this object, include the parameters for the Alpaca API key, the secret key, and the version number."
   ]
  },
  {
   "cell_type": "code",
   "execution_count": 31,
   "metadata": {},
   "outputs": [
    {
     "data": {
      "text/plain": [
       "str"
      ]
     },
     "metadata": {},
     "output_type": "display_data"
    },
    {
     "data": {
      "text/plain": [
       "str"
      ]
     },
     "metadata": {},
     "output_type": "display_data"
    }
   ],
   "source": [
    "# Set the variables for the Alpaca API and secret keys\n",
    "alpaca_api_key = os.getenv(\"ALPACA_API_KEY\")\n",
    "alpaca_secret_key = os.getenv(\"ALPACA_SECRET_KEY\")\n",
    "display(type(alpaca_api_key))\n",
    "display(type(alpaca_secret_key))\n",
    "\n",
    "\n",
    "# Create the Alpaca tradeapi.REST object\n",
    "# YOUR CODE HERE\n",
    "alpaca = tradeapi.REST(\n",
    "     alpaca_api_key,\n",
    "    alpaca_secret_key,\n",
    "    api_version=\"v2\")\n"
   ]
  },
  {
   "cell_type": "markdown",
   "metadata": {},
   "source": [
    "#### Step 3: Set the following parameters for the Alpaca API call:\n",
    "\n",
    "- `tickers`: Use the tickers for the member’s stock and bond holdings.\n",
    "\n",
    "- `timeframe`: Use a time frame of one day.\n",
    "\n",
    "- `start_date` and `end_date`: Use the same date for these parameters, and format them with the date of the previous weekday (or `2020-08-07`). This is because you want the one closing price for the most-recent trading day.\n"
   ]
  },
  {
   "cell_type": "code",
   "execution_count": 32,
   "metadata": {},
   "outputs": [],
   "source": [
    "# Set the tickers for both the bond and stock portion of the portfolio\n",
    "tickers = ['SPY', 'AGG']\n",
    "\n",
    "# Set timeframe to 1D \n",
    "timeframe = '1D'\n",
    "\n",
    "# Format current date as ISO format\n",
    "# Set both the start and end date at the date of your prior weekday \n",
    "# This will give you the closing price of the previous trading day\n",
    "# Alternatively you can use a start and end date of 2020-08-07\n",
    "# YOUR CODE HERE\n",
    "# YOUR CODE HERE\n",
    "start_date = pd.Timestamp(\"2021-10-15\", tz=\"America/New_York\").isoformat()\n",
    "end_date = pd.Timestamp(\"2021-10-15\", tz=\"America/New_York\").isoformat()"
   ]
  },
  {
   "cell_type": "markdown",
   "metadata": {},
   "source": [
    "#### Step 4: Get the current closing prices for `SPY` and `AGG` by using the Alpaca `get_barset` function. Format the response as a Pandas DataFrame by including the `df` property at the end of the `get_barset` function."
   ]
  },
  {
   "cell_type": "code",
   "execution_count": 34,
   "metadata": {},
   "outputs": [
    {
     "data": {
      "text/html": [
       "<div>\n",
       "<style scoped>\n",
       "    .dataframe tbody tr th:only-of-type {\n",
       "        vertical-align: middle;\n",
       "    }\n",
       "\n",
       "    .dataframe tbody tr th {\n",
       "        vertical-align: top;\n",
       "    }\n",
       "\n",
       "    .dataframe thead tr th {\n",
       "        text-align: left;\n",
       "    }\n",
       "\n",
       "    .dataframe thead tr:last-of-type th {\n",
       "        text-align: right;\n",
       "    }\n",
       "</style>\n",
       "<table border=\"1\" class=\"dataframe\">\n",
       "  <thead>\n",
       "    <tr>\n",
       "      <th></th>\n",
       "      <th colspan=\"5\" halign=\"left\">AGG</th>\n",
       "      <th colspan=\"5\" halign=\"left\">SPY</th>\n",
       "    </tr>\n",
       "    <tr>\n",
       "      <th></th>\n",
       "      <th>open</th>\n",
       "      <th>high</th>\n",
       "      <th>low</th>\n",
       "      <th>close</th>\n",
       "      <th>volume</th>\n",
       "      <th>open</th>\n",
       "      <th>high</th>\n",
       "      <th>low</th>\n",
       "      <th>close</th>\n",
       "      <th>volume</th>\n",
       "    </tr>\n",
       "    <tr>\n",
       "      <th>time</th>\n",
       "      <th></th>\n",
       "      <th></th>\n",
       "      <th></th>\n",
       "      <th></th>\n",
       "      <th></th>\n",
       "      <th></th>\n",
       "      <th></th>\n",
       "      <th></th>\n",
       "      <th></th>\n",
       "      <th></th>\n",
       "    </tr>\n",
       "  </thead>\n",
       "  <tbody>\n",
       "    <tr>\n",
       "      <th>2021-10-15 00:00:00-04:00</th>\n",
       "      <td>114.61</td>\n",
       "      <td>114.63</td>\n",
       "      <td>114.51</td>\n",
       "      <td>114.56</td>\n",
       "      <td>3829388</td>\n",
       "      <td>444.76</td>\n",
       "      <td>446.26</td>\n",
       "      <td>444.09</td>\n",
       "      <td>445.83</td>\n",
       "      <td>55980388</td>\n",
       "    </tr>\n",
       "  </tbody>\n",
       "</table>\n",
       "</div>"
      ],
      "text/plain": [
       "                              AGG                                      SPY  \\\n",
       "                             open    high     low   close   volume    open   \n",
       "time                                                                         \n",
       "2021-10-15 00:00:00-04:00  114.61  114.63  114.51  114.56  3829388  444.76   \n",
       "\n",
       "                                                             \n",
       "                             high     low   close    volume  \n",
       "time                                                         \n",
       "2021-10-15 00:00:00-04:00  446.26  444.09  445.83  55980388  "
      ]
     },
     "execution_count": 34,
     "metadata": {},
     "output_type": "execute_result"
    }
   ],
   "source": [
    "# Use the Alpaca get_barset function to get current closing prices the portfolio\n",
    "# Be sure to set the `df` property after the function to format the response object as a DataFrame\n",
    "# YOUR CODE HERE\n",
    "portfolio_prices_df = alpaca.get_barset(\n",
    "    tickers,\n",
    "    timeframe,\n",
    "    start = start_date,\n",
    "    end = end_date\n",
    ").df\n",
    "\n",
    "# Review the first 5 rows of the Alpaca DataFrame\n",
    "# YOUR CODE HERE\n",
    "portfolio_prices_df.head()"
   ]
  },
  {
   "cell_type": "markdown",
   "metadata": {},
   "source": [
    "#### Step 5: Navigating the Alpaca response DataFrame, select the `SPY` and `AGG` closing prices, and store them as variables."
   ]
  },
  {
   "cell_type": "code",
   "execution_count": 36,
   "metadata": {},
   "outputs": [
    {
     "name": "stdout",
     "output_type": "stream",
     "text": [
      "The price of AGG is $114.56\n"
     ]
    }
   ],
   "source": [
    "# Access the closing price for AGG from the Alpaca DataFrame\n",
    "# Converting the value to a floating point number\n",
    "agg_close_price = float(portfolio_prices_df['AGG']['close'])\n",
    "\n",
    "# Print the AGG closing price\n",
    "# YOUR CODE HERE\n",
    "print(f\"The price of AGG is ${agg_close_price}\")"
   ]
  },
  {
   "cell_type": "code",
   "execution_count": 37,
   "metadata": {},
   "outputs": [
    {
     "name": "stdout",
     "output_type": "stream",
     "text": [
      "The price of SPY is $445.83\n"
     ]
    }
   ],
   "source": [
    "# Access the closing price for SPY from the Alpaca DataFrame\n",
    "# Converting the value to a floating point number\n",
    "spy_close_price = float(portfolio_prices_df['SPY']['close'])\n",
    "\n",
    "# Print the SPY closing price\n",
    "# YOUR CODE HERE\n",
    "print(f\"The price of SPY is ${spy_close_price}\")"
   ]
  },
  {
   "cell_type": "markdown",
   "metadata": {},
   "source": [
    "#### Step 6: Calculate the value, in US dollars, of the current amount of shares in each of the stock and bond portions of the portfolio, and print the results."
   ]
  },
  {
   "cell_type": "code",
   "execution_count": 38,
   "metadata": {},
   "outputs": [
    {
     "name": "stdout",
     "output_type": "stream",
     "text": [
      "The current value of the bond portfolio is $22912.0\n"
     ]
    }
   ],
   "source": [
    "# Calculate the current value of the bond portion of the portfolio\n",
    "agg_value = agg_close_price * agg_shares\n",
    "\n",
    "# Print the current value of the bond portfolio\n",
    "# YOUR CODE HERE\n",
    "print(f\"The current value of the bond portfolio is ${agg_value}\")"
   ]
  },
  {
   "cell_type": "code",
   "execution_count": 40,
   "metadata": {},
   "outputs": [
    {
     "name": "stdout",
     "output_type": "stream",
     "text": [
      "The current value of the bond portfolio is $49041.300000\n"
     ]
    }
   ],
   "source": [
    "# Calculate the current value of the stock portion of the portfolio\n",
    "spy_value = spy_close_price * spy_shares\n",
    "\n",
    "# Print the current value of the stock portfolio\n",
    "# YOUR CODE HERE\n",
    "print(f\"The current value of the bond portfolio is ${spy_value:2f}\")"
   ]
  },
  {
   "cell_type": "code",
   "execution_count": 41,
   "metadata": {},
   "outputs": [
    {
     "name": "stdout",
     "output_type": "stream",
     "text": [
      "The current balance of the stock and bond portionof the portfolio is $71953.300000\n"
     ]
    }
   ],
   "source": [
    "# Calculate the total value of the stock and bond portion of the portfolio\n",
    "total_stocks_bonds = agg_value + spy_value\n",
    "\n",
    "# Print the current balance of the stock and bond portion of the portfolio\n",
    "# YOUR CODE HERE\n",
    "print(f\"The current balance of the stock and bond portionof the portfolio is ${total_stocks_bonds:2f}\")"
   ]
  },
  {
   "cell_type": "code",
   "execution_count": 42,
   "metadata": {},
   "outputs": [
    {
     "name": "stdout",
     "output_type": "stream",
     "text": [
      "Your current savings portfolio balance is $166874.372000\n"
     ]
    }
   ],
   "source": [
    "# Calculate the total value of the member's entire savings portfolio\n",
    "# Add the value of the cryptocurrency walled to the value of the total stocks and bonds\n",
    "total_portfolio = total_crypto_wallet + total_stocks_bonds\n",
    "\n",
    "# Print current entire savings portfolio balance\n",
    "# YOUR CODE HERE\n",
    "print(f\"Your current savings portfolio balance is ${total_portfolio:2f}\")"
   ]
  },
  {
   "cell_type": "markdown",
   "metadata": {},
   "source": [
    "### Evaluate the Emergency Fund\n",
    "\n",
    "In this section, you’ll use the valuations for the cryptocurrency wallet and for the stock and bond portions of the portfolio to determine if the credit union member has enough savings to build an emergency fund into their financial plan. To do this, complete the following steps:\n",
    "\n",
    "1. Create a Python list named `savings_data` that has two elements. The first element contains the total value of the cryptocurrency wallet. The second element contains the total value of the stock and bond portions of the portfolio.\n",
    "\n",
    "2. Use the `savings_data` list to create a Pandas DataFrame named `savings_df`, and then display this DataFrame. The function to create the DataFrame should take the following three parameters:\n",
    "\n",
    "    - `savings_data`: Use the list that you just created.\n",
    "\n",
    "    - `columns`: Set this parameter equal to a Python list with a single value called `amount`.\n",
    "\n",
    "    - `index`: Set this parameter equal to a Python list with the values of `crypto` and `stock/bond`.\n",
    "\n",
    "3. Use the `savings_df` DataFrame to plot a pie chart that visualizes the composition of the member’s portfolio. The y-axis of the pie chart uses `amount`. Be sure to add a title.\n",
    "\n",
    "4. Using Python, determine if the current portfolio has enough to create an emergency fund as part of the member’s financial plan. Ideally, an emergency fund should equal to three times the member’s monthly income. To do this, implement the following steps:\n",
    "\n",
    "    1. Create a variable named `emergency_fund_value`, and set it equal to three times the value of the member’s `monthly_income` of $12000. (You set this earlier in Part 1).\n",
    "\n",
    "    2. Create a series of three if statements to determine if the member’s total portfolio is large enough to fund the emergency portfolio:\n",
    "\n",
    "        1. If the total portfolio value is greater than the emergency fund value, display a message congratulating the member for having enough money in this fund.\n",
    "\n",
    "        2. Else if the total portfolio value is equal to the emergency fund value, display a message congratulating the member on reaching this important financial goal.\n",
    "\n",
    "        3. Else the total portfolio is less than the emergency fund value, so display a message showing how many dollars away the member is from reaching the goal. (Subtract the total portfolio value from the emergency fund value.)\n"
   ]
  },
  {
   "cell_type": "markdown",
   "metadata": {},
   "source": [
    "#### Step 1: Create a Python list named `savings_data` that has two elements. The first element contains the total value of the cryptocurrency wallet. The second element contains the total value of the stock and bond portions of the portfolio."
   ]
  },
  {
   "cell_type": "code",
   "execution_count": 43,
   "metadata": {},
   "outputs": [
    {
     "data": {
      "text/plain": [
       "[94921.072, 71953.29999999999]"
      ]
     },
     "execution_count": 43,
     "metadata": {},
     "output_type": "execute_result"
    }
   ],
   "source": [
    "# Consolidate financial assets data into a Python list\n",
    "savings_data = [total_crypto_wallet, total_stocks_bonds]\n",
    "\n",
    "# Review the Python list savings_data\n",
    "# YOUR CODE HERE\n",
    "savings_data"
   ]
  },
  {
   "cell_type": "markdown",
   "metadata": {},
   "source": [
    "#### Step 2: Use the `savings_data` list to create a Pandas DataFrame named `savings_df`, and then display this DataFrame. The function to create the DataFrame should take the following three parameters:\n",
    "\n",
    "- `savings_data`: Use the list that you just created.\n",
    "\n",
    "- `columns`: Set this parameter equal to a Python list with a single value called `amount`.\n",
    "\n",
    "- `index`: Set this parameter equal to a Python list with the values of `crypto` and `stock/bond`.\n"
   ]
  },
  {
   "cell_type": "code",
   "execution_count": 56,
   "metadata": {},
   "outputs": [
    {
     "data": {
      "text/html": [
       "<div>\n",
       "<style scoped>\n",
       "    .dataframe tbody tr th:only-of-type {\n",
       "        vertical-align: middle;\n",
       "    }\n",
       "\n",
       "    .dataframe tbody tr th {\n",
       "        vertical-align: top;\n",
       "    }\n",
       "\n",
       "    .dataframe thead th {\n",
       "        text-align: right;\n",
       "    }\n",
       "</style>\n",
       "<table border=\"1\" class=\"dataframe\">\n",
       "  <thead>\n",
       "    <tr style=\"text-align: right;\">\n",
       "      <th></th>\n",
       "      <th>amount</th>\n",
       "    </tr>\n",
       "  </thead>\n",
       "  <tbody>\n",
       "    <tr>\n",
       "      <th>crypto</th>\n",
       "      <td>94921.072</td>\n",
       "    </tr>\n",
       "    <tr>\n",
       "      <th>stock/bond</th>\n",
       "      <td>71953.300</td>\n",
       "    </tr>\n",
       "  </tbody>\n",
       "</table>\n",
       "</div>"
      ],
      "text/plain": [
       "               amount\n",
       "crypto      94921.072\n",
       "stock/bond  71953.300"
      ]
     },
     "execution_count": 56,
     "metadata": {},
     "output_type": "execute_result"
    }
   ],
   "source": [
    "# Create a Pandas DataFrame called savings_df \n",
    "# YOUR CODE HERE\n",
    "savings_df = pd.DataFrame (data = savings_data,index = ['crypto','stock/bond'], \n",
    "                           columns = ['amount'])\n",
    "\n",
    "\n",
    "\n",
    "# Display the savings_df DataFrame\n",
    "# YOUR CODE HERE\n",
    "savings_df"
   ]
  },
  {
   "cell_type": "markdown",
   "metadata": {},
   "source": [
    "#### Step 3: Use the `savings_df` DataFrame to plot a pie chart that visualizes the composition of the member’s portfolio. The y-axis of the pie chart uses `amount`. Be sure to add a title."
   ]
  },
  {
   "cell_type": "code",
   "execution_count": 63,
   "metadata": {},
   "outputs": [
    {
     "data": {
      "text/plain": [
       "<AxesSubplot:ylabel='amount'>"
      ]
     },
     "execution_count": 63,
     "metadata": {},
     "output_type": "execute_result"
    },
    {
     "data": {
      "image/png": "[encoded data removed]",
      "text/plain": [
       "<Figure size 720x360 with 1 Axes>"
      ]
     },
     "metadata": {},
     "output_type": "display_data"
    }
   ],
   "source": [
    "# Plot the total value of the member's portfolio (crypto and stock/bond) in a pie chart\n",
    "# YOUR CODE HERE\n",
    "savings_df.plot.pie ( y='amount', figsize = (10,5),autopct = '%1.1f%%')"
   ]
  },
  {
   "cell_type": "markdown",
   "metadata": {},
   "source": [
    "#### Step 4: Using Python, determine if the current portfolio has enough to create an emergency fund as part of the member’s financial plan. Ideally, an emergency fund should equal to three times the member’s monthly income. To do this, implement the following steps:\n",
    "\n",
    "Step 1. Create a variable named `emergency_fund_value`, and set it equal to three times the value of the member’s `monthly_income` of 12000. (You set this earlier in Part 1).\n",
    "\n",
    "Step 2. Create a series of three if statements to determine if the member’s total portfolio is large enough to fund the emergency portfolio:\n",
    "\n",
    "* If the total portfolio value is greater than the emergency fund value, display a message congratulating the member for having enough money in this fund.\n",
    "\n",
    "* Else if the total portfolio value is equal to the emergency fund value, display a message congratulating the member on reaching this important financial goal.\n",
    "\n",
    "* Else the total portfolio is less than the emergency fund value, so display a message showing how many dollars away the member is from reaching the goal. (Subtract the total portfolio value from the emergency fund value.)\n"
   ]
  },
  {
   "cell_type": "markdown",
   "metadata": {},
   "source": [
    "##### Step 4-1: Create a variable named `emergency_fund_value`, and set it equal to three times the value of the member’s `monthly_income` of 12000. (You set this earlier in Part 1)."
   ]
  },
  {
   "cell_type": "code",
   "execution_count": 64,
   "metadata": {},
   "outputs": [],
   "source": [
    "# Create a variable named emergency_fund_value\n",
    "# YOUR CODE HERE\n",
    "emergency_fund_value = monthly_income * 3"
   ]
  },
  {
   "cell_type": "markdown",
   "metadata": {},
   "source": [
    "##### Step 4-2: Create a series of three if statements to determine if the member’s total portfolio is large enough to fund the emergency portfolio:\n",
    "\n",
    "* If the total portfolio value is greater than the emergency fund value, display a message congratulating the member for having enough money in this fund.\n",
    "\n",
    "* Else if the total portfolio value is equal to the emergency fund value, display a message congratulating the member on reaching this important financial goal.\n",
    "\n",
    "* Else the total portfolio is less than the emergency fund value, so display a message showing how many dollars away the member is from reaching the goal. (Subtract the total portfolio value from the emergency fund value.)"
   ]
  },
  {
   "cell_type": "code",
   "execution_count": 66,
   "metadata": {},
   "outputs": [
    {
     "name": "stdout",
     "output_type": "stream",
     "text": [
      "Congratulations! You have more than enough money to fund emergencies!\n"
     ]
    }
   ],
   "source": [
    "# Evaluate the possibility of creating an emergency fund with 3 conditions:\n",
    "# YOUR CODE HERE\n",
    "# YOUR CODE HERE\n",
    "# YOUR CODE HERE\n",
    "if total_portfolio > emergency_fund_value:\n",
    "    print(\"Congratulations! You have more than enough money to fund emergencies!\")\n",
    "elif total_portfolio == emergency_fund_value:\n",
    "    print(\"Congratulations! You've reached your emergency fund goal!\")\n",
    "else:\n",
    "    print(f\"You are ${emergency_fund_value - total_portfolio} away from reaching your emergency fund goal.\")"
   ]
  },
  {
   "cell_type": "markdown",
   "metadata": {},
   "source": [
    "## Part 2: Create a Financial Planner for Retirement"
   ]
  },
  {
   "cell_type": "markdown",
   "metadata": {},
   "source": [
    "### Create the Monte Carlo Simulation\n",
    "\n",
    "In this section, you’ll use the MCForecastTools library to create a Monte Carlo simulation for the member’s savings portfolio. To do this, complete the following steps:\n",
    "\n",
    "1. Make an API call via the Alpaca SDK to get 3 years of historical closing prices for a traditional 60/40 portfolio split: 60% stocks (SPY) and 40% bonds (AGG).\n",
    "\n",
    "2. Run a Monte Carlo simulation of 500 samples and 30 years for the 60/40 portfolio, and then plot the results.The following image shows the overlay line plot resulting from a simulation with these characteristics. However, because a random number generator is used to run each live Monte Carlo simulation, your image will differ slightly from this exact image:\n",
    "\n",
    "![A screenshot depicts the resulting plot.](Images/5-4-monte-carlo-line-plot.png)\n",
    "\n",
    "3. Plot the probability distribution of the Monte Carlo simulation. Plot the probability distribution of the Monte Carlo simulation. The following image shows the histogram plot resulting from a simulation with these characteristics. However, because a random number generator is used to run each live Monte Carlo simulation, your image will differ slightly from this exact image:\n",
    "\n",
    "![A screenshot depicts the histogram plot.](Images/5-4-monte-carlo-histogram.png)\n",
    "\n",
    "4. Generate the summary statistics for the Monte Carlo simulation.\n",
    "\n"
   ]
  },
  {
   "cell_type": "markdown",
   "metadata": {},
   "source": [
    "#### Step 1: Make an API call via the Alpaca SDK to get 3 years of historical closing prices for a traditional 60/40 portfolio split: 60% stocks (SPY) and 40% bonds (AGG)."
   ]
  },
  {
   "cell_type": "code",
   "execution_count": 77,
   "metadata": {},
   "outputs": [],
   "source": [
    "# Set start and end dates of 3 years back from your current date\n",
    "# Alternatively, you can use an end date of 2020-08-07 and work 3 years back from that date \n",
    "# YOUR CODE HERE\n",
    "# YOUR CODE HERE\n",
    "start_date = pd.Timestamp(\"2018-10-15\", tz=\"America/New_York\").isoformat()\n",
    "end_date = pd.Timestamp(\"2021-10-15\", tz=\"America/New_York\").isoformat()\n",
    "\n",
    "# Set number of rows to 1000 to retrieve the maximum amount of rows\n",
    "# YOUR CODE HERE\n",
    "limit_rows = 1000"
   ]
  },
  {
   "cell_type": "code",
   "execution_count": 78,
   "metadata": {},
   "outputs": [
    {
     "data": {
      "text/html": [
       "<div>\n",
       "<style scoped>\n",
       "    .dataframe tbody tr th:only-of-type {\n",
       "        vertical-align: middle;\n",
       "    }\n",
       "\n",
       "    .dataframe tbody tr th {\n",
       "        vertical-align: top;\n",
       "    }\n",
       "\n",
       "    .dataframe thead tr th {\n",
       "        text-align: left;\n",
       "    }\n",
       "\n",
       "    .dataframe thead tr:last-of-type th {\n",
       "        text-align: right;\n",
       "    }\n",
       "</style>\n",
       "<table border=\"1\" class=\"dataframe\">\n",
       "  <thead>\n",
       "    <tr>\n",
       "      <th></th>\n",
       "      <th colspan=\"5\" halign=\"left\">AGG</th>\n",
       "      <th colspan=\"5\" halign=\"left\">SPY</th>\n",
       "    </tr>\n",
       "    <tr>\n",
       "      <th></th>\n",
       "      <th>open</th>\n",
       "      <th>high</th>\n",
       "      <th>low</th>\n",
       "      <th>close</th>\n",
       "      <th>volume</th>\n",
       "      <th>open</th>\n",
       "      <th>high</th>\n",
       "      <th>low</th>\n",
       "      <th>close</th>\n",
       "      <th>volume</th>\n",
       "    </tr>\n",
       "    <tr>\n",
       "      <th>time</th>\n",
       "      <th></th>\n",
       "      <th></th>\n",
       "      <th></th>\n",
       "      <th></th>\n",
       "      <th></th>\n",
       "      <th></th>\n",
       "      <th></th>\n",
       "      <th></th>\n",
       "      <th></th>\n",
       "      <th></th>\n",
       "    </tr>\n",
       "  </thead>\n",
       "  <tbody>\n",
       "    <tr>\n",
       "      <th>2018-10-15 00:00:00-04:00</th>\n",
       "      <td>104.73</td>\n",
       "      <td>104.7835</td>\n",
       "      <td>104.6233</td>\n",
       "      <td>104.670</td>\n",
       "      <td>2502508</td>\n",
       "      <td>275.55</td>\n",
       "      <td>277.04</td>\n",
       "      <td>274.30</td>\n",
       "      <td>274.48</td>\n",
       "      <td>75385132</td>\n",
       "    </tr>\n",
       "    <tr>\n",
       "      <th>2018-10-16 00:00:00-04:00</th>\n",
       "      <td>104.69</td>\n",
       "      <td>104.7400</td>\n",
       "      <td>104.5800</td>\n",
       "      <td>104.740</td>\n",
       "      <td>5520646</td>\n",
       "      <td>276.57</td>\n",
       "      <td>280.82</td>\n",
       "      <td>276.07</td>\n",
       "      <td>280.30</td>\n",
       "      <td>75057478</td>\n",
       "    </tr>\n",
       "    <tr>\n",
       "      <th>2018-10-17 00:00:00-04:00</th>\n",
       "      <td>104.71</td>\n",
       "      <td>104.7700</td>\n",
       "      <td>104.5200</td>\n",
       "      <td>104.535</td>\n",
       "      <td>2608875</td>\n",
       "      <td>280.44</td>\n",
       "      <td>281.15</td>\n",
       "      <td>277.56</td>\n",
       "      <td>280.40</td>\n",
       "      <td>81740972</td>\n",
       "    </tr>\n",
       "    <tr>\n",
       "      <th>2018-10-18 00:00:00-04:00</th>\n",
       "      <td>104.39</td>\n",
       "      <td>104.6195</td>\n",
       "      <td>104.3750</td>\n",
       "      <td>104.460</td>\n",
       "      <td>2687836</td>\n",
       "      <td>279.40</td>\n",
       "      <td>280.07</td>\n",
       "      <td>274.97</td>\n",
       "      <td>276.47</td>\n",
       "      <td>106592503</td>\n",
       "    </tr>\n",
       "    <tr>\n",
       "      <th>2018-10-19 00:00:00-04:00</th>\n",
       "      <td>104.47</td>\n",
       "      <td>104.5500</td>\n",
       "      <td>104.3400</td>\n",
       "      <td>104.370</td>\n",
       "      <td>2912850</td>\n",
       "      <td>277.12</td>\n",
       "      <td>279.30</td>\n",
       "      <td>275.47</td>\n",
       "      <td>276.19</td>\n",
       "      <td>86816021</td>\n",
       "    </tr>\n",
       "    <tr>\n",
       "      <th>...</th>\n",
       "      <td>...</td>\n",
       "      <td>...</td>\n",
       "      <td>...</td>\n",
       "      <td>...</td>\n",
       "      <td>...</td>\n",
       "      <td>...</td>\n",
       "      <td>...</td>\n",
       "      <td>...</td>\n",
       "      <td>...</td>\n",
       "      <td>...</td>\n",
       "    </tr>\n",
       "    <tr>\n",
       "      <th>2021-10-11 00:00:00-04:00</th>\n",
       "      <td>114.01</td>\n",
       "      <td>114.0650</td>\n",
       "      <td>113.9400</td>\n",
       "      <td>113.940</td>\n",
       "      <td>1999518</td>\n",
       "      <td>437.16</td>\n",
       "      <td>440.26</td>\n",
       "      <td>434.62</td>\n",
       "      <td>434.67</td>\n",
       "      <td>54993389</td>\n",
       "    </tr>\n",
       "    <tr>\n",
       "      <th>2021-10-12 00:00:00-04:00</th>\n",
       "      <td>114.17</td>\n",
       "      <td>114.3800</td>\n",
       "      <td>114.1100</td>\n",
       "      <td>114.355</td>\n",
       "      <td>3521504</td>\n",
       "      <td>435.67</td>\n",
       "      <td>436.10</td>\n",
       "      <td>432.78</td>\n",
       "      <td>433.63</td>\n",
       "      <td>61078594</td>\n",
       "    </tr>\n",
       "    <tr>\n",
       "      <th>2021-10-13 00:00:00-04:00</th>\n",
       "      <td>114.43</td>\n",
       "      <td>114.6400</td>\n",
       "      <td>114.4150</td>\n",
       "      <td>114.610</td>\n",
       "      <td>5301180</td>\n",
       "      <td>434.71</td>\n",
       "      <td>436.05</td>\n",
       "      <td>431.54</td>\n",
       "      <td>435.13</td>\n",
       "      <td>63943229</td>\n",
       "    </tr>\n",
       "    <tr>\n",
       "      <th>2021-10-14 00:00:00-04:00</th>\n",
       "      <td>114.70</td>\n",
       "      <td>114.8496</td>\n",
       "      <td>114.6300</td>\n",
       "      <td>114.840</td>\n",
       "      <td>3540673</td>\n",
       "      <td>439.08</td>\n",
       "      <td>442.66</td>\n",
       "      <td>438.58</td>\n",
       "      <td>442.47</td>\n",
       "      <td>59812568</td>\n",
       "    </tr>\n",
       "    <tr>\n",
       "      <th>2021-10-15 00:00:00-04:00</th>\n",
       "      <td>114.61</td>\n",
       "      <td>114.6300</td>\n",
       "      <td>114.5100</td>\n",
       "      <td>114.560</td>\n",
       "      <td>3829388</td>\n",
       "      <td>444.76</td>\n",
       "      <td>446.26</td>\n",
       "      <td>444.09</td>\n",
       "      <td>445.83</td>\n",
       "      <td>55980388</td>\n",
       "    </tr>\n",
       "  </tbody>\n",
       "</table>\n",
       "<p>757 rows × 10 columns</p>\n",
       "</div>"
      ],
      "text/plain": [
       "                              AGG                                        \\\n",
       "                             open      high       low    close   volume   \n",
       "time                                                                      \n",
       "2018-10-15 00:00:00-04:00  104.73  104.7835  104.6233  104.670  2502508   \n",
       "2018-10-16 00:00:00-04:00  104.69  104.7400  104.5800  104.740  5520646   \n",
       "2018-10-17 00:00:00-04:00  104.71  104.7700  104.5200  104.535  2608875   \n",
       "2018-10-18 00:00:00-04:00  104.39  104.6195  104.3750  104.460  2687836   \n",
       "2018-10-19 00:00:00-04:00  104.47  104.5500  104.3400  104.370  2912850   \n",
       "...                           ...       ...       ...      ...      ...   \n",
       "2021-10-11 00:00:00-04:00  114.01  114.0650  113.9400  113.940  1999518   \n",
       "2021-10-12 00:00:00-04:00  114.17  114.3800  114.1100  114.355  3521504   \n",
       "2021-10-13 00:00:00-04:00  114.43  114.6400  114.4150  114.610  5301180   \n",
       "2021-10-14 00:00:00-04:00  114.70  114.8496  114.6300  114.840  3540673   \n",
       "2021-10-15 00:00:00-04:00  114.61  114.6300  114.5100  114.560  3829388   \n",
       "\n",
       "                              SPY                                     \n",
       "                             open    high     low   close     volume  \n",
       "time                                                                  \n",
       "2018-10-15 00:00:00-04:00  275.55  277.04  274.30  274.48   75385132  \n",
       "2018-10-16 00:00:00-04:00  276.57  280.82  276.07  280.30   75057478  \n",
       "2018-10-17 00:00:00-04:00  280.44  281.15  277.56  280.40   81740972  \n",
       "2018-10-18 00:00:00-04:00  279.40  280.07  274.97  276.47  106592503  \n",
       "2018-10-19 00:00:00-04:00  277.12  279.30  275.47  276.19   86816021  \n",
       "...                           ...     ...     ...     ...        ...  \n",
       "2021-10-11 00:00:00-04:00  437.16  440.26  434.62  434.67   54993389  \n",
       "2021-10-12 00:00:00-04:00  435.67  436.10  432.78  433.63   61078594  \n",
       "2021-10-13 00:00:00-04:00  434.71  436.05  431.54  435.13   63943229  \n",
       "2021-10-14 00:00:00-04:00  439.08  442.66  438.58  442.47   59812568  \n",
       "2021-10-15 00:00:00-04:00  444.76  446.26  444.09  445.83   55980388  \n",
       "\n",
       "[757 rows x 10 columns]"
      ]
     },
     "execution_count": 78,
     "metadata": {},
     "output_type": "execute_result"
    }
   ],
   "source": [
    "# Use the Alpaca get_barset function to make the API call to get the 3 years worth of pricing data\n",
    "# The tickers and timeframe parameters should have been set in Part 1 of this activity \n",
    "# The start and end dates should be updated with the information set above\n",
    "# Remember to add the df property to the end of the call so the response is returned as a DataFrame\n",
    "# YOUR CODE HERE\n",
    "pricing_data = alpaca.get_barset(\n",
    "    tickers,\n",
    "    timeframe,\n",
    "    start=start_date,\n",
    "    end=end_date,\n",
    "    limit=limit_rows\n",
    ").df\n",
    "\n",
    "# Display both the first and last five rows of the DataFrame\n",
    "# YOUR CODE HERE\n",
    "# YOUR CODE HERE\n",
    "pricing_data"
   ]
  },
  {
   "cell_type": "markdown",
   "metadata": {},
   "source": [
    "#### Step 2: Run a Monte Carlo simulation of 500 samples and 30 years for the 60/40 portfolio, and then plot the results."
   ]
  },
  {
   "cell_type": "code",
   "execution_count": 79,
   "metadata": {},
   "outputs": [
    {
     "data": {
      "text/html": [
       "<div>\n",
       "<style scoped>\n",
       "    .dataframe tbody tr th:only-of-type {\n",
       "        vertical-align: middle;\n",
       "    }\n",
       "\n",
       "    .dataframe tbody tr th {\n",
       "        vertical-align: top;\n",
       "    }\n",
       "\n",
       "    .dataframe thead tr th {\n",
       "        text-align: left;\n",
       "    }\n",
       "\n",
       "    .dataframe thead tr:last-of-type th {\n",
       "        text-align: right;\n",
       "    }\n",
       "</style>\n",
       "<table border=\"1\" class=\"dataframe\">\n",
       "  <thead>\n",
       "    <tr>\n",
       "      <th></th>\n",
       "      <th colspan=\"6\" halign=\"left\">AGG</th>\n",
       "      <th colspan=\"6\" halign=\"left\">SPY</th>\n",
       "    </tr>\n",
       "    <tr>\n",
       "      <th></th>\n",
       "      <th>open</th>\n",
       "      <th>high</th>\n",
       "      <th>low</th>\n",
       "      <th>close</th>\n",
       "      <th>volume</th>\n",
       "      <th>daily_return</th>\n",
       "      <th>open</th>\n",
       "      <th>high</th>\n",
       "      <th>low</th>\n",
       "      <th>close</th>\n",
       "      <th>volume</th>\n",
       "      <th>daily_return</th>\n",
       "    </tr>\n",
       "    <tr>\n",
       "      <th>time</th>\n",
       "      <th></th>\n",
       "      <th></th>\n",
       "      <th></th>\n",
       "      <th></th>\n",
       "      <th></th>\n",
       "      <th></th>\n",
       "      <th></th>\n",
       "      <th></th>\n",
       "      <th></th>\n",
       "      <th></th>\n",
       "      <th></th>\n",
       "      <th></th>\n",
       "    </tr>\n",
       "  </thead>\n",
       "  <tbody>\n",
       "    <tr>\n",
       "      <th>2018-10-15 00:00:00-04:00</th>\n",
       "      <td>104.73</td>\n",
       "      <td>104.7835</td>\n",
       "      <td>104.6233</td>\n",
       "      <td>104.670</td>\n",
       "      <td>2502508</td>\n",
       "      <td>NaN</td>\n",
       "      <td>275.55</td>\n",
       "      <td>277.04</td>\n",
       "      <td>274.30</td>\n",
       "      <td>274.48</td>\n",
       "      <td>75385132</td>\n",
       "      <td>NaN</td>\n",
       "    </tr>\n",
       "    <tr>\n",
       "      <th>2018-10-16 00:00:00-04:00</th>\n",
       "      <td>104.69</td>\n",
       "      <td>104.7400</td>\n",
       "      <td>104.5800</td>\n",
       "      <td>104.740</td>\n",
       "      <td>5520646</td>\n",
       "      <td>0.000669</td>\n",
       "      <td>276.57</td>\n",
       "      <td>280.82</td>\n",
       "      <td>276.07</td>\n",
       "      <td>280.30</td>\n",
       "      <td>75057478</td>\n",
       "      <td>0.021204</td>\n",
       "    </tr>\n",
       "    <tr>\n",
       "      <th>2018-10-17 00:00:00-04:00</th>\n",
       "      <td>104.71</td>\n",
       "      <td>104.7700</td>\n",
       "      <td>104.5200</td>\n",
       "      <td>104.535</td>\n",
       "      <td>2608875</td>\n",
       "      <td>-0.001957</td>\n",
       "      <td>280.44</td>\n",
       "      <td>281.15</td>\n",
       "      <td>277.56</td>\n",
       "      <td>280.40</td>\n",
       "      <td>81740972</td>\n",
       "      <td>0.000357</td>\n",
       "    </tr>\n",
       "    <tr>\n",
       "      <th>2018-10-18 00:00:00-04:00</th>\n",
       "      <td>104.39</td>\n",
       "      <td>104.6195</td>\n",
       "      <td>104.3750</td>\n",
       "      <td>104.460</td>\n",
       "      <td>2687836</td>\n",
       "      <td>-0.000717</td>\n",
       "      <td>279.40</td>\n",
       "      <td>280.07</td>\n",
       "      <td>274.97</td>\n",
       "      <td>276.47</td>\n",
       "      <td>106592503</td>\n",
       "      <td>-0.014016</td>\n",
       "    </tr>\n",
       "    <tr>\n",
       "      <th>2018-10-19 00:00:00-04:00</th>\n",
       "      <td>104.47</td>\n",
       "      <td>104.5500</td>\n",
       "      <td>104.3400</td>\n",
       "      <td>104.370</td>\n",
       "      <td>2912850</td>\n",
       "      <td>-0.000862</td>\n",
       "      <td>277.12</td>\n",
       "      <td>279.30</td>\n",
       "      <td>275.47</td>\n",
       "      <td>276.19</td>\n",
       "      <td>86816021</td>\n",
       "      <td>-0.001013</td>\n",
       "    </tr>\n",
       "  </tbody>\n",
       "</table>\n",
       "</div>"
      ],
      "text/plain": [
       "                              AGG                                        \\\n",
       "                             open      high       low    close   volume   \n",
       "time                                                                      \n",
       "2018-10-15 00:00:00-04:00  104.73  104.7835  104.6233  104.670  2502508   \n",
       "2018-10-16 00:00:00-04:00  104.69  104.7400  104.5800  104.740  5520646   \n",
       "2018-10-17 00:00:00-04:00  104.71  104.7700  104.5200  104.535  2608875   \n",
       "2018-10-18 00:00:00-04:00  104.39  104.6195  104.3750  104.460  2687836   \n",
       "2018-10-19 00:00:00-04:00  104.47  104.5500  104.3400  104.370  2912850   \n",
       "\n",
       "                                           SPY                          \\\n",
       "                          daily_return    open    high     low   close   \n",
       "time                                                                     \n",
       "2018-10-15 00:00:00-04:00          NaN  275.55  277.04  274.30  274.48   \n",
       "2018-10-16 00:00:00-04:00     0.000669  276.57  280.82  276.07  280.30   \n",
       "2018-10-17 00:00:00-04:00    -0.001957  280.44  281.15  277.56  280.40   \n",
       "2018-10-18 00:00:00-04:00    -0.000717  279.40  280.07  274.97  276.47   \n",
       "2018-10-19 00:00:00-04:00    -0.000862  277.12  279.30  275.47  276.19   \n",
       "\n",
       "                                                   \n",
       "                              volume daily_return  \n",
       "time                                               \n",
       "2018-10-15 00:00:00-04:00   75385132          NaN  \n",
       "2018-10-16 00:00:00-04:00   75057478     0.021204  \n",
       "2018-10-17 00:00:00-04:00   81740972     0.000357  \n",
       "2018-10-18 00:00:00-04:00  106592503    -0.014016  \n",
       "2018-10-19 00:00:00-04:00   86816021    -0.001013  "
      ]
     },
     "execution_count": 79,
     "metadata": {},
     "output_type": "execute_result"
    }
   ],
   "source": [
    "# Configure the Monte Carlo simulation to forecast 30 years cumulative returns\n",
    "# The weights should be split 40% to AGG and 60% to SPY.\n",
    "# Run 500 samples.\n",
    "# YOUR CODE HERE\n",
    "portfolio_sim = MCSimulation(\n",
    "    portfolio_data = pricing_data,\n",
    "    weights = [.40, 0.60],\n",
    "    num_simulation = 500,\n",
    "    num_trading_days = 252*30\n",
    ")\n",
    "\n",
    "\n",
    "# Review the simulation input data\n",
    "# YOUR CODE HERE\n",
    "portfolio_sim.portfolio_data.head()"
   ]
  },
  {
   "cell_type": "code",
   "execution_count": 80,
   "metadata": {},
   "outputs": [
    {
     "name": "stdout",
     "output_type": "stream",
     "text": [
      "Running Monte Carlo simulation number 0.\n",
      "Running Monte Carlo simulation number 10.\n",
      "Running Monte Carlo simulation number 20.\n",
      "Running Monte Carlo simulation number 30.\n",
      "Running Monte Carlo simulation number 40.\n",
      "Running Monte Carlo simulation number 50.\n",
      "Running Monte Carlo simulation number 60.\n",
      "Running Monte Carlo simulation number 70.\n",
      "Running Monte Carlo simulation number 80.\n",
      "Running Monte Carlo simulation number 90.\n",
      "Running Monte Carlo simulation number 100.\n",
      "Running Monte Carlo simulation number 110.\n",
      "Running Monte Carlo simulation number 120.\n",
      "Running Monte Carlo simulation number 130.\n",
      "Running Monte Carlo simulation number 140.\n",
      "Running Monte Carlo simulation number 150.\n",
      "Running Monte Carlo simulation number 160.\n",
      "Running Monte Carlo simulation number 170.\n",
      "Running Monte Carlo simulation number 180.\n",
      "Running Monte Carlo simulation number 190.\n",
      "Running Monte Carlo simulation number 200.\n",
      "Running Monte Carlo simulation number 210.\n",
      "Running Monte Carlo simulation number 220.\n",
      "Running Monte Carlo simulation number 230.\n",
      "Running Monte Carlo simulation number 240.\n",
      "Running Monte Carlo simulation number 250.\n",
      "Running Monte Carlo simulation number 260.\n",
      "Running Monte Carlo simulation number 270.\n",
      "Running Monte Carlo simulation number 280.\n",
      "Running Monte Carlo simulation number 290.\n",
      "Running Monte Carlo simulation number 300.\n",
      "Running Monte Carlo simulation number 310.\n",
      "Running Monte Carlo simulation number 320.\n",
      "Running Monte Carlo simulation number 330.\n",
      "Running Monte Carlo simulation number 340.\n",
      "Running Monte Carlo simulation number 350.\n",
      "Running Monte Carlo simulation number 360.\n",
      "Running Monte Carlo simulation number 370.\n",
      "Running Monte Carlo simulation number 380.\n",
      "Running Monte Carlo simulation number 390.\n",
      "Running Monte Carlo simulation number 400.\n",
      "Running Monte Carlo simulation number 410.\n",
      "Running Monte Carlo simulation number 420.\n",
      "Running Monte Carlo simulation number 430.\n",
      "Running Monte Carlo simulation number 440.\n",
      "Running Monte Carlo simulation number 450.\n",
      "Running Monte Carlo simulation number 460.\n",
      "Running Monte Carlo simulation number 470.\n",
      "Running Monte Carlo simulation number 480.\n",
      "Running Monte Carlo simulation number 490.\n"
     ]
    },
    {
     "data": {
      "text/html": [
       "<div>\n",
       "<style scoped>\n",
       "    .dataframe tbody tr th:only-of-type {\n",
       "        vertical-align: middle;\n",
       "    }\n",
       "\n",
       "    .dataframe tbody tr th {\n",
       "        vertical-align: top;\n",
       "    }\n",
       "\n",
       "    .dataframe thead th {\n",
       "        text-align: right;\n",
       "    }\n",
       "</style>\n",
       "<table border=\"1\" class=\"dataframe\">\n",
       "  <thead>\n",
       "    <tr style=\"text-align: right;\">\n",
       "      <th></th>\n",
       "      <th>0</th>\n",
       "      <th>1</th>\n",
       "      <th>2</th>\n",
       "      <th>3</th>\n",
       "      <th>4</th>\n",
       "      <th>5</th>\n",
       "      <th>6</th>\n",
       "      <th>7</th>\n",
       "      <th>8</th>\n",
       "      <th>9</th>\n",
       "      <th>...</th>\n",
       "      <th>490</th>\n",
       "      <th>491</th>\n",
       "      <th>492</th>\n",
       "      <th>493</th>\n",
       "      <th>494</th>\n",
       "      <th>495</th>\n",
       "      <th>496</th>\n",
       "      <th>497</th>\n",
       "      <th>498</th>\n",
       "      <th>499</th>\n",
       "    </tr>\n",
       "  </thead>\n",
       "  <tbody>\n",
       "    <tr>\n",
       "      <th>0</th>\n",
       "      <td>1.000000</td>\n",
       "      <td>1.000000</td>\n",
       "      <td>1.000000</td>\n",
       "      <td>1.000000</td>\n",
       "      <td>1.000000</td>\n",
       "      <td>1.000000</td>\n",
       "      <td>1.000000</td>\n",
       "      <td>1.000000</td>\n",
       "      <td>1.000000</td>\n",
       "      <td>1.000000</td>\n",
       "      <td>...</td>\n",
       "      <td>1.000000</td>\n",
       "      <td>1.000000</td>\n",
       "      <td>1.000000</td>\n",
       "      <td>1.000000</td>\n",
       "      <td>1.000000</td>\n",
       "      <td>1.000000</td>\n",
       "      <td>1.000000</td>\n",
       "      <td>1.000000</td>\n",
       "      <td>1.000000</td>\n",
       "      <td>1.000000</td>\n",
       "    </tr>\n",
       "    <tr>\n",
       "      <th>1</th>\n",
       "      <td>1.008121</td>\n",
       "      <td>0.992916</td>\n",
       "      <td>0.990649</td>\n",
       "      <td>0.990499</td>\n",
       "      <td>1.016204</td>\n",
       "      <td>1.018621</td>\n",
       "      <td>1.005100</td>\n",
       "      <td>1.007090</td>\n",
       "      <td>1.005767</td>\n",
       "      <td>1.010647</td>\n",
       "      <td>...</td>\n",
       "      <td>1.000937</td>\n",
       "      <td>1.012874</td>\n",
       "      <td>0.995154</td>\n",
       "      <td>1.017787</td>\n",
       "      <td>1.012876</td>\n",
       "      <td>1.000587</td>\n",
       "      <td>1.018560</td>\n",
       "      <td>1.004972</td>\n",
       "      <td>1.006526</td>\n",
       "      <td>1.015848</td>\n",
       "    </tr>\n",
       "    <tr>\n",
       "      <th>2</th>\n",
       "      <td>1.009807</td>\n",
       "      <td>0.981001</td>\n",
       "      <td>0.979657</td>\n",
       "      <td>0.993200</td>\n",
       "      <td>1.005801</td>\n",
       "      <td>1.020945</td>\n",
       "      <td>1.014886</td>\n",
       "      <td>1.018693</td>\n",
       "      <td>1.011444</td>\n",
       "      <td>1.014676</td>\n",
       "      <td>...</td>\n",
       "      <td>0.993690</td>\n",
       "      <td>1.001301</td>\n",
       "      <td>1.014719</td>\n",
       "      <td>1.012942</td>\n",
       "      <td>1.005148</td>\n",
       "      <td>0.995615</td>\n",
       "      <td>0.999628</td>\n",
       "      <td>0.993580</td>\n",
       "      <td>0.995174</td>\n",
       "      <td>1.015057</td>\n",
       "    </tr>\n",
       "    <tr>\n",
       "      <th>3</th>\n",
       "      <td>1.009825</td>\n",
       "      <td>0.976862</td>\n",
       "      <td>0.991897</td>\n",
       "      <td>0.987670</td>\n",
       "      <td>1.002943</td>\n",
       "      <td>1.024498</td>\n",
       "      <td>1.007401</td>\n",
       "      <td>1.013163</td>\n",
       "      <td>1.023158</td>\n",
       "      <td>1.016269</td>\n",
       "      <td>...</td>\n",
       "      <td>1.000571</td>\n",
       "      <td>1.001198</td>\n",
       "      <td>1.017197</td>\n",
       "      <td>1.003459</td>\n",
       "      <td>1.011215</td>\n",
       "      <td>0.985925</td>\n",
       "      <td>0.997916</td>\n",
       "      <td>0.999268</td>\n",
       "      <td>1.009284</td>\n",
       "      <td>1.012072</td>\n",
       "    </tr>\n",
       "    <tr>\n",
       "      <th>4</th>\n",
       "      <td>1.013469</td>\n",
       "      <td>0.970945</td>\n",
       "      <td>0.997892</td>\n",
       "      <td>0.983825</td>\n",
       "      <td>0.997376</td>\n",
       "      <td>1.018218</td>\n",
       "      <td>0.996700</td>\n",
       "      <td>1.004641</td>\n",
       "      <td>1.019278</td>\n",
       "      <td>1.008932</td>\n",
       "      <td>...</td>\n",
       "      <td>1.007535</td>\n",
       "      <td>1.002990</td>\n",
       "      <td>1.016068</td>\n",
       "      <td>1.004974</td>\n",
       "      <td>1.008833</td>\n",
       "      <td>0.987406</td>\n",
       "      <td>0.986922</td>\n",
       "      <td>1.002903</td>\n",
       "      <td>0.994986</td>\n",
       "      <td>1.023049</td>\n",
       "    </tr>\n",
       "    <tr>\n",
       "      <th>...</th>\n",
       "      <td>...</td>\n",
       "      <td>...</td>\n",
       "      <td>...</td>\n",
       "      <td>...</td>\n",
       "      <td>...</td>\n",
       "      <td>...</td>\n",
       "      <td>...</td>\n",
       "      <td>...</td>\n",
       "      <td>...</td>\n",
       "      <td>...</td>\n",
       "      <td>...</td>\n",
       "      <td>...</td>\n",
       "      <td>...</td>\n",
       "      <td>...</td>\n",
       "      <td>...</td>\n",
       "      <td>...</td>\n",
       "      <td>...</td>\n",
       "      <td>...</td>\n",
       "      <td>...</td>\n",
       "      <td>...</td>\n",
       "      <td>...</td>\n",
       "    </tr>\n",
       "    <tr>\n",
       "      <th>7556</th>\n",
       "      <td>26.834556</td>\n",
       "      <td>32.011626</td>\n",
       "      <td>25.597483</td>\n",
       "      <td>122.262336</td>\n",
       "      <td>116.472256</td>\n",
       "      <td>33.839534</td>\n",
       "      <td>51.488624</td>\n",
       "      <td>6.154950</td>\n",
       "      <td>4.605072</td>\n",
       "      <td>28.927785</td>\n",
       "      <td>...</td>\n",
       "      <td>51.957694</td>\n",
       "      <td>9.580246</td>\n",
       "      <td>18.044408</td>\n",
       "      <td>41.541017</td>\n",
       "      <td>28.357499</td>\n",
       "      <td>40.473249</td>\n",
       "      <td>49.202732</td>\n",
       "      <td>17.185208</td>\n",
       "      <td>37.949036</td>\n",
       "      <td>9.138014</td>\n",
       "    </tr>\n",
       "    <tr>\n",
       "      <th>7557</th>\n",
       "      <td>26.390594</td>\n",
       "      <td>32.198268</td>\n",
       "      <td>25.703487</td>\n",
       "      <td>121.328913</td>\n",
       "      <td>118.841615</td>\n",
       "      <td>34.481527</td>\n",
       "      <td>52.015365</td>\n",
       "      <td>6.195036</td>\n",
       "      <td>4.555236</td>\n",
       "      <td>28.569554</td>\n",
       "      <td>...</td>\n",
       "      <td>52.550024</td>\n",
       "      <td>9.702144</td>\n",
       "      <td>18.244496</td>\n",
       "      <td>41.572011</td>\n",
       "      <td>28.342745</td>\n",
       "      <td>40.480306</td>\n",
       "      <td>48.886419</td>\n",
       "      <td>17.143098</td>\n",
       "      <td>38.048119</td>\n",
       "      <td>9.122721</td>\n",
       "    </tr>\n",
       "    <tr>\n",
       "      <th>7558</th>\n",
       "      <td>26.453672</td>\n",
       "      <td>31.821303</td>\n",
       "      <td>25.558750</td>\n",
       "      <td>121.519617</td>\n",
       "      <td>120.171453</td>\n",
       "      <td>34.665507</td>\n",
       "      <td>51.604776</td>\n",
       "      <td>6.279464</td>\n",
       "      <td>4.570959</td>\n",
       "      <td>28.683784</td>\n",
       "      <td>...</td>\n",
       "      <td>52.314091</td>\n",
       "      <td>9.750723</td>\n",
       "      <td>18.446682</td>\n",
       "      <td>41.814454</td>\n",
       "      <td>28.423464</td>\n",
       "      <td>40.272074</td>\n",
       "      <td>49.329893</td>\n",
       "      <td>17.024355</td>\n",
       "      <td>37.535855</td>\n",
       "      <td>9.089839</td>\n",
       "    </tr>\n",
       "    <tr>\n",
       "      <th>7559</th>\n",
       "      <td>26.833753</td>\n",
       "      <td>31.900550</td>\n",
       "      <td>25.663797</td>\n",
       "      <td>121.207172</td>\n",
       "      <td>119.218587</td>\n",
       "      <td>34.058669</td>\n",
       "      <td>52.361349</td>\n",
       "      <td>6.211932</td>\n",
       "      <td>4.590151</td>\n",
       "      <td>28.657697</td>\n",
       "      <td>...</td>\n",
       "      <td>51.903483</td>\n",
       "      <td>9.695399</td>\n",
       "      <td>18.540343</td>\n",
       "      <td>42.418064</td>\n",
       "      <td>28.126752</td>\n",
       "      <td>40.001941</td>\n",
       "      <td>49.197947</td>\n",
       "      <td>17.053054</td>\n",
       "      <td>38.109547</td>\n",
       "      <td>9.104123</td>\n",
       "    </tr>\n",
       "    <tr>\n",
       "      <th>7560</th>\n",
       "      <td>27.112334</td>\n",
       "      <td>32.016668</td>\n",
       "      <td>25.571302</td>\n",
       "      <td>121.706358</td>\n",
       "      <td>120.012277</td>\n",
       "      <td>33.898952</td>\n",
       "      <td>53.905316</td>\n",
       "      <td>6.292694</td>\n",
       "      <td>4.572626</td>\n",
       "      <td>29.032624</td>\n",
       "      <td>...</td>\n",
       "      <td>52.648426</td>\n",
       "      <td>9.857552</td>\n",
       "      <td>18.783202</td>\n",
       "      <td>42.456613</td>\n",
       "      <td>28.459853</td>\n",
       "      <td>40.164943</td>\n",
       "      <td>49.623275</td>\n",
       "      <td>17.143912</td>\n",
       "      <td>38.166751</td>\n",
       "      <td>8.991254</td>\n",
       "    </tr>\n",
       "  </tbody>\n",
       "</table>\n",
       "<p>7561 rows × 500 columns</p>\n",
       "</div>"
      ],
      "text/plain": [
       "            0          1          2           3           4          5    \\\n",
       "0      1.000000   1.000000   1.000000    1.000000    1.000000   1.000000   \n",
       "1      1.008121   0.992916   0.990649    0.990499    1.016204   1.018621   \n",
       "2      1.009807   0.981001   0.979657    0.993200    1.005801   1.020945   \n",
       "3      1.009825   0.976862   0.991897    0.987670    1.002943   1.024498   \n",
       "4      1.013469   0.970945   0.997892    0.983825    0.997376   1.018218   \n",
       "...         ...        ...        ...         ...         ...        ...   \n",
       "7556  26.834556  32.011626  25.597483  122.262336  116.472256  33.839534   \n",
       "7557  26.390594  32.198268  25.703487  121.328913  118.841615  34.481527   \n",
       "7558  26.453672  31.821303  25.558750  121.519617  120.171453  34.665507   \n",
       "7559  26.833753  31.900550  25.663797  121.207172  119.218587  34.058669   \n",
       "7560  27.112334  32.016668  25.571302  121.706358  120.012277  33.898952   \n",
       "\n",
       "            6         7         8          9    ...        490       491  \\\n",
       "0      1.000000  1.000000  1.000000   1.000000  ...   1.000000  1.000000   \n",
       "1      1.005100  1.007090  1.005767   1.010647  ...   1.000937  1.012874   \n",
       "2      1.014886  1.018693  1.011444   1.014676  ...   0.993690  1.001301   \n",
       "3      1.007401  1.013163  1.023158   1.016269  ...   1.000571  1.001198   \n",
       "4      0.996700  1.004641  1.019278   1.008932  ...   1.007535  1.002990   \n",
       "...         ...       ...       ...        ...  ...        ...       ...   \n",
       "7556  51.488624  6.154950  4.605072  28.927785  ...  51.957694  9.580246   \n",
       "7557  52.015365  6.195036  4.555236  28.569554  ...  52.550024  9.702144   \n",
       "7558  51.604776  6.279464  4.570959  28.683784  ...  52.314091  9.750723   \n",
       "7559  52.361349  6.211932  4.590151  28.657697  ...  51.903483  9.695399   \n",
       "7560  53.905316  6.292694  4.572626  29.032624  ...  52.648426  9.857552   \n",
       "\n",
       "            492        493        494        495        496        497  \\\n",
       "0      1.000000   1.000000   1.000000   1.000000   1.000000   1.000000   \n",
       "1      0.995154   1.017787   1.012876   1.000587   1.018560   1.004972   \n",
       "2      1.014719   1.012942   1.005148   0.995615   0.999628   0.993580   \n",
       "3      1.017197   1.003459   1.011215   0.985925   0.997916   0.999268   \n",
       "4      1.016068   1.004974   1.008833   0.987406   0.986922   1.002903   \n",
       "...         ...        ...        ...        ...        ...        ...   \n",
       "7556  18.044408  41.541017  28.357499  40.473249  49.202732  17.185208   \n",
       "7557  18.244496  41.572011  28.342745  40.480306  48.886419  17.143098   \n",
       "7558  18.446682  41.814454  28.423464  40.272074  49.329893  17.024355   \n",
       "7559  18.540343  42.418064  28.126752  40.001941  49.197947  17.053054   \n",
       "7560  18.783202  42.456613  28.459853  40.164943  49.623275  17.143912   \n",
       "\n",
       "            498       499  \n",
       "0      1.000000  1.000000  \n",
       "1      1.006526  1.015848  \n",
       "2      0.995174  1.015057  \n",
       "3      1.009284  1.012072  \n",
       "4      0.994986  1.023049  \n",
       "...         ...       ...  \n",
       "7556  37.949036  9.138014  \n",
       "7557  38.048119  9.122721  \n",
       "7558  37.535855  9.089839  \n",
       "7559  38.109547  9.104123  \n",
       "7560  38.166751  8.991254  \n",
       "\n",
       "[7561 rows x 500 columns]"
      ]
     },
     "execution_count": 80,
     "metadata": {},
     "output_type": "execute_result"
    }
   ],
   "source": [
    "# Run the Monte Carlo simulation to forecast 30 years cumulative returns\n",
    "# YOUR CODE HERE\n",
    "portfolio_sim.calc_cumulative_return()"
   ]
  },
  {
   "cell_type": "code",
   "execution_count": 81,
   "metadata": {},
   "outputs": [
    {
     "data": {
      "text/plain": [
       "<AxesSubplot:title={'center':'500 Simulations of Cumulative Portfolio Return Trajectories Over the Next 7560 Trading Days.'}>"
      ]
     },
     "execution_count": 81,
     "metadata": {},
     "output_type": "execute_result"
    },
    {
     "data": {
      "image/png": "[encoded data removed]",
      "text/plain": [
       "<Figure size 432x288 with 1 Axes>"
      ]
     },
     "metadata": {
      "needs_background": "light"
     },
     "output_type": "display_data"
    }
   ],
   "source": [
    "# Visualize the 30-year Monte Carlo simulation by creating an\n",
    "# overlay line plot\n",
    "portfolio_sim.plot_simulation()"
   ]
  },
  {
   "cell_type": "markdown",
   "metadata": {},
   "source": [
    "#### Step 3: Plot the probability distribution of the Monte Carlo simulation."
   ]
  },
  {
   "cell_type": "code",
   "execution_count": 82,
   "metadata": {},
   "outputs": [
    {
     "data": {
      "text/plain": [
       "<AxesSubplot:title={'center':'Distribution of Final Cumuluative Returns Across All 500 Simulations'}, ylabel='Frequency'>"
      ]
     },
     "execution_count": 82,
     "metadata": {},
     "output_type": "execute_result"
    },
    {
     "data": {
      "image/png": "[encoded data removed]",
      "text/plain": [
       "<Figure size 432x288 with 1 Axes>"
      ]
     },
     "metadata": {
      "needs_background": "light"
     },
     "output_type": "display_data"
    }
   ],
   "source": [
    "# Visualize the probability distribution of the 30-year Monte Carlo simulation \n",
    "# by plotting a histogram\n",
    "# YOUR CODE HERE\n",
    "portfolio_sim.plot_distribution()"
   ]
  },
  {
   "cell_type": "markdown",
   "metadata": {},
   "source": [
    "#### Step 4: Generate the summary statistics for the Monte Carlo simulation."
   ]
  },
  {
   "cell_type": "code",
   "execution_count": 83,
   "metadata": {},
   "outputs": [
    {
     "data": {
      "text/plain": [
       "count           500.000000\n",
       "mean             42.900195\n",
       "std              33.928803\n",
       "min               3.152482\n",
       "25%              18.777350\n",
       "50%              33.083669\n",
       "75%              54.868462\n",
       "max             202.968890\n",
       "95% CI Lower      7.055304\n",
       "95% CI Upper    141.108259\n",
       "Name: 7560, dtype: float64"
      ]
     },
     "execution_count": 83,
     "metadata": {},
     "output_type": "execute_result"
    }
   ],
   "source": [
    "# Generate summary statistics from the 30-year Monte Carlo simulation results\n",
    "# Save the results as a variable\n",
    "# YOUR CODE HERE\n",
    "summary_table = portfolio_sim.summarize_cumulative_return()\n",
    "\n",
    "# Review the 30-year Monte Carlo summary statistics\n",
    "# YOUR CODE HERE\n",
    "summary_table"
   ]
  },
  {
   "cell_type": "markdown",
   "metadata": {},
   "source": [
    "### Analyze the Retirement Portfolio Forecasts\n",
    "\n",
    "Using the current value of only the stock and bond portion of the member's portfolio and the summary statistics that you generated from the Monte Carlo simulation, answer the following question in your Jupyter notebook:\n",
    "\n",
    "-  What are the lower and upper bounds for the expected value of the portfolio with a 95% confidence interval?\n"
   ]
  },
  {
   "cell_type": "code",
   "execution_count": 84,
   "metadata": {},
   "outputs": [
    {
     "name": "stdout",
     "output_type": "stream",
     "text": [
      "The current balance of the stock and bond portfolio is $71953.29999999999\n"
     ]
    }
   ],
   "source": [
    "# Print the current balance of the stock and bond portion of the members portfolio\n",
    "# YOUR CODE HERE\n",
    "print(f\"The current balance of the stock and bond portfolio is ${total_stocks_bonds}\")"
   ]
  },
  {
   "cell_type": "code",
   "execution_count": 87,
   "metadata": {},
   "outputs": [
    {
     "name": "stdout",
     "output_type": "stream",
     "text": [
      "There is a 95% chance that an initial investment of $71953.29999999999 in the portfolio with the weight of 40% to AGG and 60% to SPY over the next 30 years will end within in the range of $507652.38 and $10153204.86.\n"
     ]
    }
   ],
   "source": [
    "# Use the lower and upper `95%` confidence intervals to calculate the range of the possible outcomes for the current stock/bond portfolio\n",
    "ci_lower_thirty_cumulative_return = round(summary_table[8]*total_stocks_bonds,2)\n",
    "ci_upper_thirty_cumulative_return = round(summary_table[9]*total_stocks_bonds,2)\n",
    "\n",
    "# Print the result of your calculations\n",
    "# YOUR CODE HERE\n",
    "print(f\"There is a 95% chance that an initial investment of ${total_stocks_bonds} in the portfolio\"\n",
    "      f\" with the weight of 40% to AGG and 60% to SPY over the next 30 years will end within in the range of\"\n",
    "      f\" ${ci_lower_thirty_cumulative_return} and ${ci_upper_thirty_cumulative_return}.\")"
   ]
  },
  {
   "cell_type": "markdown",
   "metadata": {},
   "source": [
    "### Forecast Cumulative Returns in 10 Years\n",
    "\n",
    "The CTO of the credit union is impressed with your work on these planning tools but wonders if 30 years is a long time to wait until retirement. So, your next task is to adjust the retirement portfolio and run a new Monte Carlo simulation to find out if the changes will allow members to retire earlier.\n",
    "\n",
    "For this new Monte Carlo simulation, do the following: \n",
    "\n",
    "- Forecast the cumulative returns for 10 years from now. Because of the shortened investment horizon (30 years to 10 years), the portfolio needs to invest more heavily in the riskier asset&mdash;that is, stock&mdash;to help accumulate wealth for retirement. \n",
    "\n",
    "- Adjust the weights of the retirement portfolio so that the composition for the Monte Carlo simulation consists of 20% bonds and 80% stocks. \n",
    "\n",
    "- Run the simulation over 500 samples, and use the same data that the API call to Alpaca generated.\n",
    "\n",
    "- Based on the new Monte Carlo simulation, answer the following questions in your Jupyter notebook:\n",
    "\n",
    "    - Using the current value of only the stock and bond portion of the member's portfolio and the summary statistics that you generated from the new Monte Carlo simulation, what are the lower and upper bounds for the expected value of the portfolio (with the new weights) with a 95% confidence interval?\n",
    "\n",
    "    - Will weighting the portfolio more heavily toward stocks allow the credit union members to retire after only 10 years?\n"
   ]
  },
  {
   "cell_type": "code",
   "execution_count": 88,
   "metadata": {},
   "outputs": [
    {
     "data": {
      "text/html": [
       "<div>\n",
       "<style scoped>\n",
       "    .dataframe tbody tr th:only-of-type {\n",
       "        vertical-align: middle;\n",
       "    }\n",
       "\n",
       "    .dataframe tbody tr th {\n",
       "        vertical-align: top;\n",
       "    }\n",
       "\n",
       "    .dataframe thead tr th {\n",
       "        text-align: left;\n",
       "    }\n",
       "\n",
       "    .dataframe thead tr:last-of-type th {\n",
       "        text-align: right;\n",
       "    }\n",
       "</style>\n",
       "<table border=\"1\" class=\"dataframe\">\n",
       "  <thead>\n",
       "    <tr>\n",
       "      <th></th>\n",
       "      <th colspan=\"6\" halign=\"left\">AGG</th>\n",
       "      <th colspan=\"6\" halign=\"left\">SPY</th>\n",
       "    </tr>\n",
       "    <tr>\n",
       "      <th></th>\n",
       "      <th>open</th>\n",
       "      <th>high</th>\n",
       "      <th>low</th>\n",
       "      <th>close</th>\n",
       "      <th>volume</th>\n",
       "      <th>daily_return</th>\n",
       "      <th>open</th>\n",
       "      <th>high</th>\n",
       "      <th>low</th>\n",
       "      <th>close</th>\n",
       "      <th>volume</th>\n",
       "      <th>daily_return</th>\n",
       "    </tr>\n",
       "    <tr>\n",
       "      <th>time</th>\n",
       "      <th></th>\n",
       "      <th></th>\n",
       "      <th></th>\n",
       "      <th></th>\n",
       "      <th></th>\n",
       "      <th></th>\n",
       "      <th></th>\n",
       "      <th></th>\n",
       "      <th></th>\n",
       "      <th></th>\n",
       "      <th></th>\n",
       "      <th></th>\n",
       "    </tr>\n",
       "  </thead>\n",
       "  <tbody>\n",
       "    <tr>\n",
       "      <th>2018-10-15 00:00:00-04:00</th>\n",
       "      <td>104.73</td>\n",
       "      <td>104.7835</td>\n",
       "      <td>104.6233</td>\n",
       "      <td>104.670</td>\n",
       "      <td>2502508</td>\n",
       "      <td>NaN</td>\n",
       "      <td>275.55</td>\n",
       "      <td>277.04</td>\n",
       "      <td>274.30</td>\n",
       "      <td>274.48</td>\n",
       "      <td>75385132</td>\n",
       "      <td>NaN</td>\n",
       "    </tr>\n",
       "    <tr>\n",
       "      <th>2018-10-16 00:00:00-04:00</th>\n",
       "      <td>104.69</td>\n",
       "      <td>104.7400</td>\n",
       "      <td>104.5800</td>\n",
       "      <td>104.740</td>\n",
       "      <td>5520646</td>\n",
       "      <td>0.000669</td>\n",
       "      <td>276.57</td>\n",
       "      <td>280.82</td>\n",
       "      <td>276.07</td>\n",
       "      <td>280.30</td>\n",
       "      <td>75057478</td>\n",
       "      <td>0.021204</td>\n",
       "    </tr>\n",
       "    <tr>\n",
       "      <th>2018-10-17 00:00:00-04:00</th>\n",
       "      <td>104.71</td>\n",
       "      <td>104.7700</td>\n",
       "      <td>104.5200</td>\n",
       "      <td>104.535</td>\n",
       "      <td>2608875</td>\n",
       "      <td>-0.001957</td>\n",
       "      <td>280.44</td>\n",
       "      <td>281.15</td>\n",
       "      <td>277.56</td>\n",
       "      <td>280.40</td>\n",
       "      <td>81740972</td>\n",
       "      <td>0.000357</td>\n",
       "    </tr>\n",
       "    <tr>\n",
       "      <th>2018-10-18 00:00:00-04:00</th>\n",
       "      <td>104.39</td>\n",
       "      <td>104.6195</td>\n",
       "      <td>104.3750</td>\n",
       "      <td>104.460</td>\n",
       "      <td>2687836</td>\n",
       "      <td>-0.000717</td>\n",
       "      <td>279.40</td>\n",
       "      <td>280.07</td>\n",
       "      <td>274.97</td>\n",
       "      <td>276.47</td>\n",
       "      <td>106592503</td>\n",
       "      <td>-0.014016</td>\n",
       "    </tr>\n",
       "    <tr>\n",
       "      <th>2018-10-19 00:00:00-04:00</th>\n",
       "      <td>104.47</td>\n",
       "      <td>104.5500</td>\n",
       "      <td>104.3400</td>\n",
       "      <td>104.370</td>\n",
       "      <td>2912850</td>\n",
       "      <td>-0.000862</td>\n",
       "      <td>277.12</td>\n",
       "      <td>279.30</td>\n",
       "      <td>275.47</td>\n",
       "      <td>276.19</td>\n",
       "      <td>86816021</td>\n",
       "      <td>-0.001013</td>\n",
       "    </tr>\n",
       "  </tbody>\n",
       "</table>\n",
       "</div>"
      ],
      "text/plain": [
       "                              AGG                                        \\\n",
       "                             open      high       low    close   volume   \n",
       "time                                                                      \n",
       "2018-10-15 00:00:00-04:00  104.73  104.7835  104.6233  104.670  2502508   \n",
       "2018-10-16 00:00:00-04:00  104.69  104.7400  104.5800  104.740  5520646   \n",
       "2018-10-17 00:00:00-04:00  104.71  104.7700  104.5200  104.535  2608875   \n",
       "2018-10-18 00:00:00-04:00  104.39  104.6195  104.3750  104.460  2687836   \n",
       "2018-10-19 00:00:00-04:00  104.47  104.5500  104.3400  104.370  2912850   \n",
       "\n",
       "                                           SPY                          \\\n",
       "                          daily_return    open    high     low   close   \n",
       "time                                                                     \n",
       "2018-10-15 00:00:00-04:00          NaN  275.55  277.04  274.30  274.48   \n",
       "2018-10-16 00:00:00-04:00     0.000669  276.57  280.82  276.07  280.30   \n",
       "2018-10-17 00:00:00-04:00    -0.001957  280.44  281.15  277.56  280.40   \n",
       "2018-10-18 00:00:00-04:00    -0.000717  279.40  280.07  274.97  276.47   \n",
       "2018-10-19 00:00:00-04:00    -0.000862  277.12  279.30  275.47  276.19   \n",
       "\n",
       "                                                   \n",
       "                              volume daily_return  \n",
       "time                                               \n",
       "2018-10-15 00:00:00-04:00   75385132          NaN  \n",
       "2018-10-16 00:00:00-04:00   75057478     0.021204  \n",
       "2018-10-17 00:00:00-04:00   81740972     0.000357  \n",
       "2018-10-18 00:00:00-04:00  106592503    -0.014016  \n",
       "2018-10-19 00:00:00-04:00   86816021    -0.001013  "
      ]
     },
     "execution_count": 88,
     "metadata": {},
     "output_type": "execute_result"
    }
   ],
   "source": [
    "# Configure a Monte Carlo simulation to forecast 10 years cumulative returns\n",
    "# The weights should be split 20% to AGG and 80% to SPY.\n",
    "# Run 500 samples\n",
    "# YOUR CODE HERE\n",
    "portfolio_shortened_sim = MCSimulation(\n",
    "    portfolio_data = pricing_data,\n",
    "    weights = [.20, .80],\n",
    "    num_simulation = 500,\n",
    "    num_trading_days = 252*10\n",
    ")\n",
    "\n",
    "# Review the simulation input data\n",
    "# YOUR CODE HERE\n",
    "portfolio_shortened_sim.portfolio_data.head()"
   ]
  },
  {
   "cell_type": "code",
   "execution_count": 89,
   "metadata": {},
   "outputs": [
    {
     "name": "stdout",
     "output_type": "stream",
     "text": [
      "Running Monte Carlo simulation number 0.\n",
      "Running Monte Carlo simulation number 10.\n",
      "Running Monte Carlo simulation number 20.\n",
      "Running Monte Carlo simulation number 30.\n",
      "Running Monte Carlo simulation number 40.\n",
      "Running Monte Carlo simulation number 50.\n",
      "Running Monte Carlo simulation number 60.\n",
      "Running Monte Carlo simulation number 70.\n",
      "Running Monte Carlo simulation number 80.\n",
      "Running Monte Carlo simulation number 90.\n",
      "Running Monte Carlo simulation number 100.\n",
      "Running Monte Carlo simulation number 110.\n",
      "Running Monte Carlo simulation number 120.\n",
      "Running Monte Carlo simulation number 130.\n",
      "Running Monte Carlo simulation number 140.\n",
      "Running Monte Carlo simulation number 150.\n",
      "Running Monte Carlo simulation number 160.\n",
      "Running Monte Carlo simulation number 170.\n",
      "Running Monte Carlo simulation number 180.\n",
      "Running Monte Carlo simulation number 190.\n",
      "Running Monte Carlo simulation number 200.\n",
      "Running Monte Carlo simulation number 210.\n",
      "Running Monte Carlo simulation number 220.\n",
      "Running Monte Carlo simulation number 230.\n",
      "Running Monte Carlo simulation number 240.\n",
      "Running Monte Carlo simulation number 250.\n",
      "Running Monte Carlo simulation number 260.\n",
      "Running Monte Carlo simulation number 270.\n",
      "Running Monte Carlo simulation number 280.\n",
      "Running Monte Carlo simulation number 290.\n",
      "Running Monte Carlo simulation number 300.\n",
      "Running Monte Carlo simulation number 310.\n",
      "Running Monte Carlo simulation number 320.\n",
      "Running Monte Carlo simulation number 330.\n",
      "Running Monte Carlo simulation number 340.\n",
      "Running Monte Carlo simulation number 350.\n",
      "Running Monte Carlo simulation number 360.\n",
      "Running Monte Carlo simulation number 370.\n",
      "Running Monte Carlo simulation number 380.\n",
      "Running Monte Carlo simulation number 390.\n",
      "Running Monte Carlo simulation number 400.\n",
      "Running Monte Carlo simulation number 410.\n",
      "Running Monte Carlo simulation number 420.\n",
      "Running Monte Carlo simulation number 430.\n",
      "Running Monte Carlo simulation number 440.\n",
      "Running Monte Carlo simulation number 450.\n",
      "Running Monte Carlo simulation number 460.\n",
      "Running Monte Carlo simulation number 470.\n",
      "Running Monte Carlo simulation number 480.\n",
      "Running Monte Carlo simulation number 490.\n"
     ]
    },
    {
     "data": {
      "text/html": [
       "<div>\n",
       "<style scoped>\n",
       "    .dataframe tbody tr th:only-of-type {\n",
       "        vertical-align: middle;\n",
       "    }\n",
       "\n",
       "    .dataframe tbody tr th {\n",
       "        vertical-align: top;\n",
       "    }\n",
       "\n",
       "    .dataframe thead th {\n",
       "        text-align: right;\n",
       "    }\n",
       "</style>\n",
       "<table border=\"1\" class=\"dataframe\">\n",
       "  <thead>\n",
       "    <tr style=\"text-align: right;\">\n",
       "      <th></th>\n",
       "      <th>0</th>\n",
       "      <th>1</th>\n",
       "      <th>2</th>\n",
       "      <th>3</th>\n",
       "      <th>4</th>\n",
       "      <th>5</th>\n",
       "      <th>6</th>\n",
       "      <th>7</th>\n",
       "      <th>8</th>\n",
       "      <th>9</th>\n",
       "      <th>...</th>\n",
       "      <th>490</th>\n",
       "      <th>491</th>\n",
       "      <th>492</th>\n",
       "      <th>493</th>\n",
       "      <th>494</th>\n",
       "      <th>495</th>\n",
       "      <th>496</th>\n",
       "      <th>497</th>\n",
       "      <th>498</th>\n",
       "      <th>499</th>\n",
       "    </tr>\n",
       "  </thead>\n",
       "  <tbody>\n",
       "    <tr>\n",
       "      <th>0</th>\n",
       "      <td>1.000000</td>\n",
       "      <td>1.000000</td>\n",
       "      <td>1.000000</td>\n",
       "      <td>1.000000</td>\n",
       "      <td>1.000000</td>\n",
       "      <td>1.000000</td>\n",
       "      <td>1.000000</td>\n",
       "      <td>1.000000</td>\n",
       "      <td>1.000000</td>\n",
       "      <td>1.000000</td>\n",
       "      <td>...</td>\n",
       "      <td>1.000000</td>\n",
       "      <td>1.000000</td>\n",
       "      <td>1.000000</td>\n",
       "      <td>1.000000</td>\n",
       "      <td>1.000000</td>\n",
       "      <td>1.000000</td>\n",
       "      <td>1.000000</td>\n",
       "      <td>1.000000</td>\n",
       "      <td>1.000000</td>\n",
       "      <td>1.000000</td>\n",
       "    </tr>\n",
       "    <tr>\n",
       "      <th>1</th>\n",
       "      <td>0.999060</td>\n",
       "      <td>1.007168</td>\n",
       "      <td>1.005080</td>\n",
       "      <td>1.004140</td>\n",
       "      <td>0.993515</td>\n",
       "      <td>0.991934</td>\n",
       "      <td>1.008109</td>\n",
       "      <td>1.013179</td>\n",
       "      <td>0.978132</td>\n",
       "      <td>0.998886</td>\n",
       "      <td>...</td>\n",
       "      <td>1.008350</td>\n",
       "      <td>1.015352</td>\n",
       "      <td>0.988812</td>\n",
       "      <td>1.010808</td>\n",
       "      <td>1.007232</td>\n",
       "      <td>0.998016</td>\n",
       "      <td>0.999774</td>\n",
       "      <td>1.004826</td>\n",
       "      <td>0.976900</td>\n",
       "      <td>1.006526</td>\n",
       "    </tr>\n",
       "    <tr>\n",
       "      <th>2</th>\n",
       "      <td>0.985140</td>\n",
       "      <td>0.990311</td>\n",
       "      <td>0.996967</td>\n",
       "      <td>1.012865</td>\n",
       "      <td>0.992280</td>\n",
       "      <td>1.014135</td>\n",
       "      <td>1.012778</td>\n",
       "      <td>1.014529</td>\n",
       "      <td>0.978763</td>\n",
       "      <td>1.000236</td>\n",
       "      <td>...</td>\n",
       "      <td>1.022684</td>\n",
       "      <td>1.017544</td>\n",
       "      <td>0.987360</td>\n",
       "      <td>1.025195</td>\n",
       "      <td>1.028577</td>\n",
       "      <td>0.995553</td>\n",
       "      <td>1.000117</td>\n",
       "      <td>1.000578</td>\n",
       "      <td>0.986329</td>\n",
       "      <td>1.005611</td>\n",
       "    </tr>\n",
       "    <tr>\n",
       "      <th>3</th>\n",
       "      <td>0.986300</td>\n",
       "      <td>1.001966</td>\n",
       "      <td>0.997887</td>\n",
       "      <td>1.009397</td>\n",
       "      <td>1.010137</td>\n",
       "      <td>1.007806</td>\n",
       "      <td>1.024592</td>\n",
       "      <td>1.007280</td>\n",
       "      <td>0.995757</td>\n",
       "      <td>1.005375</td>\n",
       "      <td>...</td>\n",
       "      <td>1.014465</td>\n",
       "      <td>1.030000</td>\n",
       "      <td>0.968669</td>\n",
       "      <td>1.012718</td>\n",
       "      <td>1.037672</td>\n",
       "      <td>1.010510</td>\n",
       "      <td>1.013563</td>\n",
       "      <td>0.995168</td>\n",
       "      <td>0.997280</td>\n",
       "      <td>1.022389</td>\n",
       "    </tr>\n",
       "    <tr>\n",
       "      <th>4</th>\n",
       "      <td>0.974604</td>\n",
       "      <td>1.000820</td>\n",
       "      <td>0.990201</td>\n",
       "      <td>1.007217</td>\n",
       "      <td>1.012697</td>\n",
       "      <td>1.016719</td>\n",
       "      <td>1.004431</td>\n",
       "      <td>0.998659</td>\n",
       "      <td>0.989133</td>\n",
       "      <td>0.995249</td>\n",
       "      <td>...</td>\n",
       "      <td>1.021994</td>\n",
       "      <td>1.025507</td>\n",
       "      <td>0.960684</td>\n",
       "      <td>1.011877</td>\n",
       "      <td>1.038552</td>\n",
       "      <td>1.015623</td>\n",
       "      <td>1.005784</td>\n",
       "      <td>0.991152</td>\n",
       "      <td>0.991031</td>\n",
       "      <td>1.018606</td>\n",
       "    </tr>\n",
       "    <tr>\n",
       "      <th>...</th>\n",
       "      <td>...</td>\n",
       "      <td>...</td>\n",
       "      <td>...</td>\n",
       "      <td>...</td>\n",
       "      <td>...</td>\n",
       "      <td>...</td>\n",
       "      <td>...</td>\n",
       "      <td>...</td>\n",
       "      <td>...</td>\n",
       "      <td>...</td>\n",
       "      <td>...</td>\n",
       "      <td>...</td>\n",
       "      <td>...</td>\n",
       "      <td>...</td>\n",
       "      <td>...</td>\n",
       "      <td>...</td>\n",
       "      <td>...</td>\n",
       "      <td>...</td>\n",
       "      <td>...</td>\n",
       "      <td>...</td>\n",
       "      <td>...</td>\n",
       "    </tr>\n",
       "    <tr>\n",
       "      <th>2516</th>\n",
       "      <td>3.810482</td>\n",
       "      <td>3.195656</td>\n",
       "      <td>6.467688</td>\n",
       "      <td>15.624862</td>\n",
       "      <td>4.507334</td>\n",
       "      <td>2.569460</td>\n",
       "      <td>3.042228</td>\n",
       "      <td>2.554615</td>\n",
       "      <td>3.707125</td>\n",
       "      <td>3.494351</td>\n",
       "      <td>...</td>\n",
       "      <td>2.403473</td>\n",
       "      <td>7.790778</td>\n",
       "      <td>2.025030</td>\n",
       "      <td>3.277724</td>\n",
       "      <td>10.477275</td>\n",
       "      <td>11.546452</td>\n",
       "      <td>0.791237</td>\n",
       "      <td>4.291153</td>\n",
       "      <td>7.127344</td>\n",
       "      <td>3.182874</td>\n",
       "    </tr>\n",
       "    <tr>\n",
       "      <th>2517</th>\n",
       "      <td>3.801845</td>\n",
       "      <td>3.214405</td>\n",
       "      <td>6.442238</td>\n",
       "      <td>15.572087</td>\n",
       "      <td>4.464746</td>\n",
       "      <td>2.595405</td>\n",
       "      <td>3.096052</td>\n",
       "      <td>2.534084</td>\n",
       "      <td>3.758063</td>\n",
       "      <td>3.513310</td>\n",
       "      <td>...</td>\n",
       "      <td>2.396501</td>\n",
       "      <td>7.667299</td>\n",
       "      <td>2.052950</td>\n",
       "      <td>3.286312</td>\n",
       "      <td>10.734091</td>\n",
       "      <td>11.817883</td>\n",
       "      <td>0.787042</td>\n",
       "      <td>4.285619</td>\n",
       "      <td>7.087757</td>\n",
       "      <td>3.203524</td>\n",
       "    </tr>\n",
       "    <tr>\n",
       "      <th>2518</th>\n",
       "      <td>3.713784</td>\n",
       "      <td>3.245634</td>\n",
       "      <td>6.565352</td>\n",
       "      <td>15.580195</td>\n",
       "      <td>4.357313</td>\n",
       "      <td>2.616048</td>\n",
       "      <td>3.053780</td>\n",
       "      <td>2.579257</td>\n",
       "      <td>3.691723</td>\n",
       "      <td>3.474100</td>\n",
       "      <td>...</td>\n",
       "      <td>2.410377</td>\n",
       "      <td>7.694389</td>\n",
       "      <td>2.037190</td>\n",
       "      <td>3.217101</td>\n",
       "      <td>10.577662</td>\n",
       "      <td>11.855596</td>\n",
       "      <td>0.793259</td>\n",
       "      <td>4.238113</td>\n",
       "      <td>7.057153</td>\n",
       "      <td>3.266949</td>\n",
       "    </tr>\n",
       "    <tr>\n",
       "      <th>2519</th>\n",
       "      <td>3.742230</td>\n",
       "      <td>3.277810</td>\n",
       "      <td>6.580333</td>\n",
       "      <td>15.524872</td>\n",
       "      <td>4.377954</td>\n",
       "      <td>2.606284</td>\n",
       "      <td>3.023810</td>\n",
       "      <td>2.582471</td>\n",
       "      <td>3.752275</td>\n",
       "      <td>3.554535</td>\n",
       "      <td>...</td>\n",
       "      <td>2.423724</td>\n",
       "      <td>7.804211</td>\n",
       "      <td>2.034299</td>\n",
       "      <td>3.184616</td>\n",
       "      <td>10.744407</td>\n",
       "      <td>11.929809</td>\n",
       "      <td>0.794851</td>\n",
       "      <td>4.269032</td>\n",
       "      <td>7.103699</td>\n",
       "      <td>3.254908</td>\n",
       "    </tr>\n",
       "    <tr>\n",
       "      <th>2520</th>\n",
       "      <td>3.779923</td>\n",
       "      <td>3.325750</td>\n",
       "      <td>6.586903</td>\n",
       "      <td>15.445160</td>\n",
       "      <td>4.334709</td>\n",
       "      <td>2.628923</td>\n",
       "      <td>3.043673</td>\n",
       "      <td>2.548489</td>\n",
       "      <td>3.775579</td>\n",
       "      <td>3.494740</td>\n",
       "      <td>...</td>\n",
       "      <td>2.440559</td>\n",
       "      <td>7.728843</td>\n",
       "      <td>2.050655</td>\n",
       "      <td>3.166942</td>\n",
       "      <td>10.803980</td>\n",
       "      <td>11.840367</td>\n",
       "      <td>0.804544</td>\n",
       "      <td>4.241404</td>\n",
       "      <td>7.103558</td>\n",
       "      <td>3.169473</td>\n",
       "    </tr>\n",
       "  </tbody>\n",
       "</table>\n",
       "<p>2521 rows × 500 columns</p>\n",
       "</div>"
      ],
      "text/plain": [
       "           0         1         2          3         4         5         6    \\\n",
       "0     1.000000  1.000000  1.000000   1.000000  1.000000  1.000000  1.000000   \n",
       "1     0.999060  1.007168  1.005080   1.004140  0.993515  0.991934  1.008109   \n",
       "2     0.985140  0.990311  0.996967   1.012865  0.992280  1.014135  1.012778   \n",
       "3     0.986300  1.001966  0.997887   1.009397  1.010137  1.007806  1.024592   \n",
       "4     0.974604  1.000820  0.990201   1.007217  1.012697  1.016719  1.004431   \n",
       "...        ...       ...       ...        ...       ...       ...       ...   \n",
       "2516  3.810482  3.195656  6.467688  15.624862  4.507334  2.569460  3.042228   \n",
       "2517  3.801845  3.214405  6.442238  15.572087  4.464746  2.595405  3.096052   \n",
       "2518  3.713784  3.245634  6.565352  15.580195  4.357313  2.616048  3.053780   \n",
       "2519  3.742230  3.277810  6.580333  15.524872  4.377954  2.606284  3.023810   \n",
       "2520  3.779923  3.325750  6.586903  15.445160  4.334709  2.628923  3.043673   \n",
       "\n",
       "           7         8         9    ...       490       491       492  \\\n",
       "0     1.000000  1.000000  1.000000  ...  1.000000  1.000000  1.000000   \n",
       "1     1.013179  0.978132  0.998886  ...  1.008350  1.015352  0.988812   \n",
       "2     1.014529  0.978763  1.000236  ...  1.022684  1.017544  0.987360   \n",
       "3     1.007280  0.995757  1.005375  ...  1.014465  1.030000  0.968669   \n",
       "4     0.998659  0.989133  0.995249  ...  1.021994  1.025507  0.960684   \n",
       "...        ...       ...       ...  ...       ...       ...       ...   \n",
       "2516  2.554615  3.707125  3.494351  ...  2.403473  7.790778  2.025030   \n",
       "2517  2.534084  3.758063  3.513310  ...  2.396501  7.667299  2.052950   \n",
       "2518  2.579257  3.691723  3.474100  ...  2.410377  7.694389  2.037190   \n",
       "2519  2.582471  3.752275  3.554535  ...  2.423724  7.804211  2.034299   \n",
       "2520  2.548489  3.775579  3.494740  ...  2.440559  7.728843  2.050655   \n",
       "\n",
       "           493        494        495       496       497       498       499  \n",
       "0     1.000000   1.000000   1.000000  1.000000  1.000000  1.000000  1.000000  \n",
       "1     1.010808   1.007232   0.998016  0.999774  1.004826  0.976900  1.006526  \n",
       "2     1.025195   1.028577   0.995553  1.000117  1.000578  0.986329  1.005611  \n",
       "3     1.012718   1.037672   1.010510  1.013563  0.995168  0.997280  1.022389  \n",
       "4     1.011877   1.038552   1.015623  1.005784  0.991152  0.991031  1.018606  \n",
       "...        ...        ...        ...       ...       ...       ...       ...  \n",
       "2516  3.277724  10.477275  11.546452  0.791237  4.291153  7.127344  3.182874  \n",
       "2517  3.286312  10.734091  11.817883  0.787042  4.285619  7.087757  3.203524  \n",
       "2518  3.217101  10.577662  11.855596  0.793259  4.238113  7.057153  3.266949  \n",
       "2519  3.184616  10.744407  11.929809  0.794851  4.269032  7.103699  3.254908  \n",
       "2520  3.166942  10.803980  11.840367  0.804544  4.241404  7.103558  3.169473  \n",
       "\n",
       "[2521 rows x 500 columns]"
      ]
     },
     "execution_count": 89,
     "metadata": {},
     "output_type": "execute_result"
    }
   ],
   "source": [
    "# Run the Monte Carlo simulation to forecast 10 years cumulative returns\n",
    "# YOUR CODE HERE\n",
    "portfolio_shortened_sim.calc_cumulative_return()"
   ]
  },
  {
   "cell_type": "code",
   "execution_count": 90,
   "metadata": {},
   "outputs": [
    {
     "data": {
      "text/plain": [
       "<AxesSubplot:title={'center':'500 Simulations of Cumulative Portfolio Return Trajectories Over the Next 2520 Trading Days.'}>"
      ]
     },
     "execution_count": 90,
     "metadata": {},
     "output_type": "execute_result"
    },
    {
     "data": {
      "image/png": "[encoded data removed]",
      "text/plain": [
       "<Figure size 432x288 with 1 Axes>"
      ]
     },
     "metadata": {
      "needs_background": "light"
     },
     "output_type": "display_data"
    }
   ],
   "source": [
    "# Visualize the 10-year Monte Carlo simulation by creating an\n",
    "# overlay line plot\n",
    "# YOUR CODE HERE\n",
    "portfolio_shortened_sim.plot_simulation()"
   ]
  },
  {
   "cell_type": "code",
   "execution_count": 91,
   "metadata": {},
   "outputs": [
    {
     "data": {
      "text/plain": [
       "<AxesSubplot:title={'center':'Distribution of Final Cumuluative Returns Across All 500 Simulations'}, ylabel='Frequency'>"
      ]
     },
     "execution_count": 91,
     "metadata": {},
     "output_type": "execute_result"
    },
    {
     "data": {
      "image/png": "[encoded data removed]",
      "text/plain": [
       "<Figure size 432x288 with 1 Axes>"
      ]
     },
     "metadata": {
      "needs_background": "light"
     },
     "output_type": "display_data"
    }
   ],
   "source": [
    "# Visualize the probability distribution of the 10-year Monte Carlo simulation \n",
    "# by plotting a histogram\n",
    "# YOUR CODE HERE\n",
    "portfolio_shortened_sim.plot_distribution()"
   ]
  },
  {
   "cell_type": "code",
   "execution_count": 92,
   "metadata": {},
   "outputs": [
    {
     "data": {
      "text/plain": [
       "count           500.000000\n",
       "mean              4.972099\n",
       "std               3.340241\n",
       "min               0.804544\n",
       "25%               2.918066\n",
       "50%               4.133014\n",
       "75%               6.219553\n",
       "max              37.294074\n",
       "95% CI Lower      1.465505\n",
       "95% CI Upper     12.099314\n",
       "Name: 2520, dtype: float64"
      ]
     },
     "execution_count": 92,
     "metadata": {},
     "output_type": "execute_result"
    }
   ],
   "source": [
    "# Generate summary statistics from the 10-year Monte Carlo simulation results\n",
    "# Save the results as a variable\n",
    "# YOUR CODE HERE\n",
    "\n",
    "shortened_summary_table = portfolio_shortened_sim.summarize_cumulative_return()\n",
    "\n",
    "# Review the 30-year Monte Carlo summary statistics\n",
    "# YOUR CODE HERE\n",
    "shortened_summary_table"
   ]
  },
  {
   "cell_type": "markdown",
   "metadata": {},
   "source": [
    "### Answer the following questions:"
   ]
  },
  {
   "cell_type": "markdown",
   "metadata": {},
   "source": [
    "#### Question: Using the current value of only the stock and bond portion of the member's portfolio and the summary statistics that you generated from the new Monte Carlo simulation, what are the lower and upper bounds for the expected value of the portfolio (with the new weights) with a 95% confidence interval?"
   ]
  },
  {
   "cell_type": "code",
   "execution_count": 93,
   "metadata": {},
   "outputs": [
    {
     "name": "stdout",
     "output_type": "stream",
     "text": [
      "The current balance of the stock and bond portfolio is $71953.29999999999\n"
     ]
    }
   ],
   "source": [
    "# Print the current balance of the stock and bond portion of the members portfolio\n",
    "# YOUR CODE HERE\n",
    "print(f\"The current balance of the stock and bond portfolio is ${total_stocks_bonds}\")"
   ]
  },
  {
   "cell_type": "code",
   "execution_count": 94,
   "metadata": {},
   "outputs": [
    {
     "name": "stdout",
     "output_type": "stream",
     "text": [
      "There is a 95% chance that an initial investment of $71953.29999999999 in the portfolio with the weight of 20% to AGG and 80% to SPY over the next 10 years will end within in the range of $105447.93 and $870585.57.\n"
     ]
    }
   ],
   "source": [
    "# Use the lower and upper `95%` confidence intervals to calculate the range of the possible outcomes for the current stock/bond portfolio\n",
    "ci_lower_ten_cumulative_return = round(shortened_summary_table[8]*total_stocks_bonds,2)\n",
    "ci_upper_ten_cumulative_return = round(shortened_summary_table[9]*total_stocks_bonds,2)\n",
    "\n",
    "# Print the result of your calculations\n",
    "# YOUR CODE HERE\n",
    "print(f\"There is a 95% chance that an initial investment of ${total_stocks_bonds} in the portfolio\"\n",
    "      f\" with the weight of 20% to AGG and 80% to SPY over the next 10 years will end within in the range of\"\n",
    "      f\" ${ci_lower_ten_cumulative_return} and ${ci_upper_ten_cumulative_return}.\")"
   ]
  },
  {
   "cell_type": "markdown",
   "metadata": {},
   "source": [
    "#### Question: Will weighting the portfolio more heavily to stocks allow the credit union members to retire after only 10 years?"
   ]
  },
  {
   "cell_type": "raw",
   "metadata": {},
   "source": [
    "**Answer** # The short answer is no, weighting the portofio more heavily to stocks doesn't allow the member to retire after only 10 years. The long answer depends on how much does the member need when he/she retires. The 10-year simulation, even with higher weight on stock, shows a much lower range than the 30-year simulation. If the member needs at least $507652 to retire which is the lower bond of expect value from 30-year simulation with 95% confidence, then weighting more heavily to stocks does help the member to retire in 10 years. However, if the member needs more than $870585.57 to retire which is the upper bond of expect value from 10-year simulation with 95% confidence, then he/she cannot retire in 10 years.  "
   ]
  },
  {
   "cell_type": "code",
   "execution_count": null,
   "metadata": {},
   "outputs": [],
   "source": []
  }
 ],
 "metadata": {
  "kernelspec": {
   "display_name": "Python (dev)",
   "language": "python",
   "name": "dev"
  },
  "language_info": {
   "codemirror_mode": {
    "name": "ipython",
    "version": 3
   },
   "file_extension": ".py",
   "mimetype": "text/x-python",
   "name": "python",
   "nbconvert_exporter": "python",
   "pygments_lexer": "ipython3",
   "version": "3.7.10"
  }
 },
 "nbformat": 4,
 "nbformat_minor": 4
}
